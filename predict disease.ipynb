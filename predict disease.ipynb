{
 "cells": [
  {
   "cell_type": "markdown",
   "metadata": {
    "id": "X-NtgdO9zl_5"
   },
   "source": [
    "# Read data"
   ]
  },
  {
   "cell_type": "code",
   "execution_count": 455,
   "metadata": {
    "executionInfo": {
     "elapsed": 9,
     "status": "ok",
     "timestamp": 1659769228143,
     "user": {
      "displayName": "JY Chen",
      "userId": "02001438925355313864"
     },
     "user_tz": 240
    },
    "id": "_CXCrcqjzsx8"
   },
   "outputs": [],
   "source": [
    "import pandas as pd\n",
    "import numpy as np\n",
    "from numpy import savetxt\n",
    "from numpy import genfromtxt\n",
    "from sklearn import preprocessing\n",
    "from sklearn.feature_selection import f_classif\n",
    "import matplotlib.pyplot as plt\n",
    "\n",
    "\n",
    "import warnings\n",
    "warnings.filterwarnings(\"ignore\")"
   ]
  },
  {
   "cell_type": "code",
   "execution_count": 456,
   "metadata": {
    "executionInfo": {
     "elapsed": 221,
     "status": "ok",
     "timestamp": 1659769228356,
     "user": {
      "displayName": "JY Chen",
      "userId": "02001438925355313864"
     },
     "user_tz": 240
    },
    "id": "mnlFToT_Xp9-"
   },
   "outputs": [],
   "source": [
    "import pandas as pd\n",
    "train_data = pd.read_csv('pp5i_train.gr.csv') #read csv file\n",
    "test_data = pd.read_csv('pp5i_test.gr.csv')\n",
    "class_data = pd.read_csv('pp5i_train_class.txt')"
   ]
  },
  {
   "cell_type": "code",
   "execution_count": 457,
   "metadata": {
    "colab": {
     "base_uri": "https://localhost:8080/"
    },
    "executionInfo": {
     "elapsed": 15,
     "status": "ok",
     "timestamp": 1659769228357,
     "user": {
      "displayName": "JY Chen",
      "userId": "02001438925355313864"
     },
     "user_tz": 240
    },
    "id": "9fos-mv8mLMR",
    "outputId": "cb49a763-b7a0-47e6-c7a1-ebe2507c09e3"
   },
   "outputs": [
    {
     "data": {
      "text/plain": [
       "<bound method DataFrame.info of               SNO    1    2    3    4    5    6    7    8    9  ...   60   61  \\\n",
       "0       A28102_at   30   46   31   31   26   28   35   29   21  ...   35   49   \n",
       "1     AB000114_at   22   31   19   16   26   24   29   20   23  ...   38   30   \n",
       "2     AB000115_at   29   70   12   11   14   13   14   18   10  ...   20  205   \n",
       "3     AB000220_at   76  208  244   39   85   23  634  159   50  ...   55  203   \n",
       "4     AB000409_at  167  211  179  119  161  166  228  267  260  ...  137  180   \n",
       "...           ...  ...  ...  ...  ...  ...  ...  ...  ...  ...  ...  ...  ...   \n",
       "7065    X83863_at  116  123  142  134  153  152  139  213  193  ...  117  203   \n",
       "7066    Z17240_at   44   43   44   38   42   46   46   52   32  ...   30   37   \n",
       "7067  L49218_f_at    6    9   10    9    7    7   10    0    5  ...    4    8   \n",
       "7068  M71243_f_at   30   31   28   21   26   29   32   57   34  ...   27   26   \n",
       "7069  Z78285_f_at    0   -1   -2    0   -2   -2    0   -2   -3  ...    0   -1   \n",
       "\n",
       "       62   63   64   65   66   67   68   69  \n",
       "0      31   51   71   68   77   56   41   38  \n",
       "1      22   24   19   21   22   25   21   17  \n",
       "2      16   61   62   35   30   65   32   25  \n",
       "3     152   53   28   30   31   31   27   16  \n",
       "4     107  147  170  131  132  158  164  172  \n",
       "...   ...  ...  ...  ...  ...  ...  ...  ...  \n",
       "7065  136  118  234  297  267  290  255  397  \n",
       "7066   39   14   47   39   42   36   44   38  \n",
       "7067   10    1    1    1    6    6    1    7  \n",
       "7068   22   11   27   27   30   21   33   24  \n",
       "7069    0   -2   -1   -1   -1    0   -1    3  \n",
       "\n",
       "[7070 rows x 70 columns]>"
      ]
     },
     "execution_count": 457,
     "metadata": {},
     "output_type": "execute_result"
    }
   ],
   "source": [
    "train_data.info"
   ]
  },
  {
   "cell_type": "code",
   "execution_count": 458,
   "metadata": {
    "colab": {
     "base_uri": "https://localhost:8080/"
    },
    "executionInfo": {
     "elapsed": 13,
     "status": "ok",
     "timestamp": 1659769228358,
     "user": {
      "displayName": "JY Chen",
      "userId": "02001438925355313864"
     },
     "user_tz": 240
    },
    "id": "_DE_JkpBmYV_",
    "outputId": "b29ce054-8e5c-4fa5-d7cc-a932e4b485e4"
   },
   "outputs": [
    {
     "data": {
      "text/plain": [
       "<bound method DataFrame.info of               SNO  101  102  103  104  105  106  107  108  109  ...  114  115  \\\n",
       "0       A28102_at   58   52   13   46   48   31   16   23   47  ...   11   19   \n",
       "1     AB000114_at   36   34   32   30   22   57   17   19   29  ...   17   57   \n",
       "2     AB000115_at   10  255    0   14   17   -6   15   17   33  ...   18   -2   \n",
       "3     AB000220_at   64   19  133   62  110   77   22   33  132  ...   84   34   \n",
       "4     AB000409_at   17  220  186  232  169  251  210  142  131  ...  209  166   \n",
       "...           ...  ...  ...  ...  ...  ...  ...  ...  ...  ...  ...  ...  ...   \n",
       "7065    X83863_at  288  161  400  206  171  257  216  155  284  ...  164  494   \n",
       "7066    Z17240_at   74   33   36   44   42   43   23   51   35  ...   39  104   \n",
       "7067  L49218_f_at    5    6  -24   13    8    9    7    8    6  ...    4    7   \n",
       "7068  M71243_f_at   61   22   55   51   16   82   48   34   24  ...   37   36   \n",
       "7069  Z78285_f_at    0   -1    2    0   -2    9  -13   -2    1  ...    0    6   \n",
       "\n",
       "      116  117  118  119  120  121  122  123  \n",
       "0      18   70   50   29   47   44   56  119  \n",
       "1      25   50   36   26   28   34   45   53  \n",
       "2      -7  148  145   13  361   16    7   34  \n",
       "3      30   69  108   75  184   57   26   83  \n",
       "4     260  241  165  111  170  147  246  204  \n",
       "...   ...  ...  ...  ...  ...  ...  ...  ...  \n",
       "7065  197  277  147  113  136  157  176  198  \n",
       "7066   40   31   44   39   55   48   62   37  \n",
       "7067   17  -24   14  -13   10   11    3   -7  \n",
       "7068   62   27   24   -1   41   34   55   60  \n",
       "7069   -3  -46   -2  -24   -1    0   -8   -8  \n",
       "\n",
       "[7070 rows x 24 columns]>"
      ]
     },
     "execution_count": 458,
     "metadata": {},
     "output_type": "execute_result"
    }
   ],
   "source": [
    "test_data.info"
   ]
  },
  {
   "cell_type": "code",
   "execution_count": 459,
   "metadata": {
    "executionInfo": {
     "elapsed": 11,
     "status": "ok",
     "timestamp": 1659769228358,
     "user": {
      "displayName": "JY Chen",
      "userId": "02001438925355313864"
     },
     "user_tz": 240
    },
    "id": "ZHnyzdRsmkxR"
   },
   "outputs": [],
   "source": [
    "from sklearn import preprocessing\n",
    "class_numpy = class_data.to_numpy()\n",
    "lableEncode =  preprocessing.LabelEncoder()\n",
    "lableEncode.fit(class_numpy)\n",
    "train_class = lableEncode.transform(class_numpy)"
   ]
  },
  {
   "cell_type": "code",
   "execution_count": 460,
   "metadata": {
    "colab": {
     "base_uri": "https://localhost:8080/"
    },
    "executionInfo": {
     "elapsed": 12,
     "status": "ok",
     "timestamp": 1659769228359,
     "user": {
      "displayName": "JY Chen",
      "userId": "02001438925355313864"
     },
     "user_tz": 240
    },
    "id": "G4_2BJhvmlYv",
    "outputId": "54d8f519-7e8e-4508-8a6a-8cddc08196f9"
   },
   "outputs": [
    {
     "data": {
      "text/plain": [
       "array([2, 2, 2, 2, 2, 2, 2, 2, 2, 2, 2, 2, 2, 2, 2, 2, 2, 2, 2, 2, 2, 2,\n",
       "       2, 2, 2, 2, 2, 2, 2, 2, 2, 2, 2, 2, 2, 2, 2, 2, 2, 3, 3, 3, 3, 3,\n",
       "       3, 3, 4, 4, 4, 4, 4, 4, 4, 0, 0, 0, 0, 0, 0, 0, 0, 0, 0, 1, 1, 1,\n",
       "       1, 1, 1])"
      ]
     },
     "execution_count": 460,
     "metadata": {},
     "output_type": "execute_result"
    }
   ],
   "source": [
    "train_class"
   ]
  },
  {
   "cell_type": "markdown",
   "metadata": {
    "id": "edsQz3oNzykp"
   },
   "source": [
    "# Step 1. Data Cleaning"
   ]
  },
  {
   "cell_type": "code",
   "execution_count": 461,
   "metadata": {
    "executionInfo": {
     "elapsed": 11,
     "status": "ok",
     "timestamp": 1659769228360,
     "user": {
      "displayName": "JY Chen",
      "userId": "02001438925355313864"
     },
     "user_tz": 240
    },
    "id": "AnbiCFyvXyyQ"
   },
   "outputs": [],
   "source": [
    "##Separate textual and numeric data \n",
    "train_data_sno = train_data['SNO']\n",
    "train_data_drop_sno = train_data.iloc[:,1:] #set filter to extract data except \"SNO\"\n",
    "test_data_sno = test_data['SNO'] \n",
    "test_data_drop_sno = test_data.iloc[:,1:] #set filter to extract data except \"SNO\""
   ]
  },
  {
   "cell_type": "code",
   "execution_count": 462,
   "metadata": {
    "executionInfo": {
     "elapsed": 12,
     "status": "ok",
     "timestamp": 1659769228361,
     "user": {
      "displayName": "JY Chen",
      "userId": "02001438925355313864"
     },
     "user_tz": 240
    },
    "id": "w9RFG1Vh7ezk"
   },
   "outputs": [],
   "source": [
    "train_data_drop_sno = train_data_drop_sno.clip(lower=20, upper=16000) #drop the trian data which is below 20 or over 1600\n",
    "test_data_drop_sno = test_data_drop_sno.clip(lower=20, upper=16000) #drop the test data which is below 20 or over 1600"
   ]
  },
  {
   "cell_type": "code",
   "execution_count": 463,
   "metadata": {
    "executionInfo": {
     "elapsed": 11,
     "status": "ok",
     "timestamp": 1659769228361,
     "user": {
      "displayName": "JY Chen",
      "userId": "02001438925355313864"
     },
     "user_tz": 240
    },
    "id": "amqi75QaYxIW"
   },
   "outputs": [],
   "source": [
    "train_data_class = train_data_drop_sno.max(axis=1)/train_data_drop_sno.min(axis=1)\n",
    "#train_data_class = abs(train_data_class)\n",
    "delect_index = train_data_class[train_data_class<2].index #create an index which can be used to delete related unuseful genes"
   ]
  },
  {
   "cell_type": "code",
   "execution_count": 464,
   "metadata": {
    "executionInfo": {
     "elapsed": 218,
     "status": "ok",
     "timestamp": 1659769228568,
     "user": {
      "displayName": "JY Chen",
      "userId": "02001438925355313864"
     },
     "user_tz": 240
    },
    "id": "Iw339f0wYygl"
   },
   "outputs": [],
   "source": [
    "train_sno_data_drop = train_data['SNO'].drop(delect_index) #set filter to drop the relavent row according to index\n",
    "train_data_data_drop = train_data_drop_sno.drop(delect_index) #set filter to drop the relavent row according to index\n",
    "\n",
    "test_sno_data_drop = test_data['SNO'].drop(delect_index) #set filter to drop the relavent row according to index\n",
    "test_data_data_drop = test_data_drop_sno.drop(delect_index) #set filter to drop the relavent row according to index\n",
    "\n",
    "train_data = pd.concat([train_sno_data_drop, train_data_data_drop], axis=1, sort=False) #Combining train's numeric and textual data\n",
    "test_data = pd.concat([test_sno_data_drop , test_data_data_drop], axis=1, sort=False) #Combining test's numeric and textual data"
   ]
  },
  {
   "cell_type": "code",
   "execution_count": 465,
   "metadata": {
    "colab": {
     "base_uri": "https://localhost:8080/",
     "height": 423
    },
    "executionInfo": {
     "elapsed": 7,
     "status": "ok",
     "timestamp": 1659769228568,
     "user": {
      "displayName": "JY Chen",
      "userId": "02001438925355313864"
     },
     "user_tz": 240
    },
    "id": "hE2whzEkm9y8",
    "outputId": "2818eaaa-5d2d-429d-db25-a588cde3cd7d"
   },
   "outputs": [
    {
     "data": {
      "text/html": [
       "\n",
       "  <div id=\"df-9b75fea8-d852-4e72-8982-27c9f5359b6e\">\n",
       "    <div class=\"colab-df-container\">\n",
       "      <div>\n",
       "<style scoped>\n",
       "    .dataframe tbody tr th:only-of-type {\n",
       "        vertical-align: middle;\n",
       "    }\n",
       "\n",
       "    .dataframe tbody tr th {\n",
       "        vertical-align: top;\n",
       "    }\n",
       "\n",
       "    .dataframe thead th {\n",
       "        text-align: right;\n",
       "    }\n",
       "</style>\n",
       "<table border=\"1\" class=\"dataframe\">\n",
       "  <thead>\n",
       "    <tr style=\"text-align: right;\">\n",
       "      <th></th>\n",
       "      <th>SNO</th>\n",
       "      <th>1</th>\n",
       "      <th>2</th>\n",
       "      <th>3</th>\n",
       "      <th>4</th>\n",
       "      <th>5</th>\n",
       "      <th>6</th>\n",
       "      <th>7</th>\n",
       "      <th>8</th>\n",
       "      <th>9</th>\n",
       "      <th>...</th>\n",
       "      <th>60</th>\n",
       "      <th>61</th>\n",
       "      <th>62</th>\n",
       "      <th>63</th>\n",
       "      <th>64</th>\n",
       "      <th>65</th>\n",
       "      <th>66</th>\n",
       "      <th>67</th>\n",
       "      <th>68</th>\n",
       "      <th>69</th>\n",
       "    </tr>\n",
       "  </thead>\n",
       "  <tbody>\n",
       "    <tr>\n",
       "      <th>0</th>\n",
       "      <td>A28102_at</td>\n",
       "      <td>30</td>\n",
       "      <td>46</td>\n",
       "      <td>31</td>\n",
       "      <td>31</td>\n",
       "      <td>26</td>\n",
       "      <td>28</td>\n",
       "      <td>35</td>\n",
       "      <td>29</td>\n",
       "      <td>21</td>\n",
       "      <td>...</td>\n",
       "      <td>35</td>\n",
       "      <td>49</td>\n",
       "      <td>31</td>\n",
       "      <td>51</td>\n",
       "      <td>71</td>\n",
       "      <td>68</td>\n",
       "      <td>77</td>\n",
       "      <td>56</td>\n",
       "      <td>41</td>\n",
       "      <td>38</td>\n",
       "    </tr>\n",
       "    <tr>\n",
       "      <th>1</th>\n",
       "      <td>AB000114_at</td>\n",
       "      <td>22</td>\n",
       "      <td>31</td>\n",
       "      <td>20</td>\n",
       "      <td>20</td>\n",
       "      <td>26</td>\n",
       "      <td>24</td>\n",
       "      <td>29</td>\n",
       "      <td>20</td>\n",
       "      <td>23</td>\n",
       "      <td>...</td>\n",
       "      <td>38</td>\n",
       "      <td>30</td>\n",
       "      <td>22</td>\n",
       "      <td>24</td>\n",
       "      <td>20</td>\n",
       "      <td>21</td>\n",
       "      <td>22</td>\n",
       "      <td>25</td>\n",
       "      <td>21</td>\n",
       "      <td>20</td>\n",
       "    </tr>\n",
       "    <tr>\n",
       "      <th>2</th>\n",
       "      <td>AB000115_at</td>\n",
       "      <td>29</td>\n",
       "      <td>70</td>\n",
       "      <td>20</td>\n",
       "      <td>20</td>\n",
       "      <td>20</td>\n",
       "      <td>20</td>\n",
       "      <td>20</td>\n",
       "      <td>20</td>\n",
       "      <td>20</td>\n",
       "      <td>...</td>\n",
       "      <td>20</td>\n",
       "      <td>205</td>\n",
       "      <td>20</td>\n",
       "      <td>61</td>\n",
       "      <td>62</td>\n",
       "      <td>35</td>\n",
       "      <td>30</td>\n",
       "      <td>65</td>\n",
       "      <td>32</td>\n",
       "      <td>25</td>\n",
       "    </tr>\n",
       "    <tr>\n",
       "      <th>3</th>\n",
       "      <td>AB000220_at</td>\n",
       "      <td>76</td>\n",
       "      <td>208</td>\n",
       "      <td>244</td>\n",
       "      <td>39</td>\n",
       "      <td>85</td>\n",
       "      <td>23</td>\n",
       "      <td>634</td>\n",
       "      <td>159</td>\n",
       "      <td>50</td>\n",
       "      <td>...</td>\n",
       "      <td>55</td>\n",
       "      <td>203</td>\n",
       "      <td>152</td>\n",
       "      <td>53</td>\n",
       "      <td>28</td>\n",
       "      <td>30</td>\n",
       "      <td>31</td>\n",
       "      <td>31</td>\n",
       "      <td>27</td>\n",
       "      <td>20</td>\n",
       "    </tr>\n",
       "    <tr>\n",
       "      <th>4</th>\n",
       "      <td>AB000409_at</td>\n",
       "      <td>167</td>\n",
       "      <td>211</td>\n",
       "      <td>179</td>\n",
       "      <td>119</td>\n",
       "      <td>161</td>\n",
       "      <td>166</td>\n",
       "      <td>228</td>\n",
       "      <td>267</td>\n",
       "      <td>260</td>\n",
       "      <td>...</td>\n",
       "      <td>137</td>\n",
       "      <td>180</td>\n",
       "      <td>107</td>\n",
       "      <td>147</td>\n",
       "      <td>170</td>\n",
       "      <td>131</td>\n",
       "      <td>132</td>\n",
       "      <td>158</td>\n",
       "      <td>164</td>\n",
       "      <td>172</td>\n",
       "    </tr>\n",
       "    <tr>\n",
       "      <th>...</th>\n",
       "      <td>...</td>\n",
       "      <td>...</td>\n",
       "      <td>...</td>\n",
       "      <td>...</td>\n",
       "      <td>...</td>\n",
       "      <td>...</td>\n",
       "      <td>...</td>\n",
       "      <td>...</td>\n",
       "      <td>...</td>\n",
       "      <td>...</td>\n",
       "      <td>...</td>\n",
       "      <td>...</td>\n",
       "      <td>...</td>\n",
       "      <td>...</td>\n",
       "      <td>...</td>\n",
       "      <td>...</td>\n",
       "      <td>...</td>\n",
       "      <td>...</td>\n",
       "      <td>...</td>\n",
       "      <td>...</td>\n",
       "      <td>...</td>\n",
       "    </tr>\n",
       "    <tr>\n",
       "      <th>7061</th>\n",
       "      <td>U58516_at</td>\n",
       "      <td>161</td>\n",
       "      <td>265</td>\n",
       "      <td>126</td>\n",
       "      <td>163</td>\n",
       "      <td>138</td>\n",
       "      <td>107</td>\n",
       "      <td>99</td>\n",
       "      <td>137</td>\n",
       "      <td>161</td>\n",
       "      <td>...</td>\n",
       "      <td>410</td>\n",
       "      <td>238</td>\n",
       "      <td>718</td>\n",
       "      <td>374</td>\n",
       "      <td>198</td>\n",
       "      <td>364</td>\n",
       "      <td>251</td>\n",
       "      <td>315</td>\n",
       "      <td>248</td>\n",
       "      <td>285</td>\n",
       "    </tr>\n",
       "    <tr>\n",
       "      <th>7063</th>\n",
       "      <td>X06956_at</td>\n",
       "      <td>34</td>\n",
       "      <td>98</td>\n",
       "      <td>21</td>\n",
       "      <td>20</td>\n",
       "      <td>29</td>\n",
       "      <td>20</td>\n",
       "      <td>57</td>\n",
       "      <td>20</td>\n",
       "      <td>23</td>\n",
       "      <td>...</td>\n",
       "      <td>101</td>\n",
       "      <td>25</td>\n",
       "      <td>39</td>\n",
       "      <td>56</td>\n",
       "      <td>26</td>\n",
       "      <td>34</td>\n",
       "      <td>45</td>\n",
       "      <td>27</td>\n",
       "      <td>46</td>\n",
       "      <td>61</td>\n",
       "    </tr>\n",
       "    <tr>\n",
       "      <th>7065</th>\n",
       "      <td>X83863_at</td>\n",
       "      <td>116</td>\n",
       "      <td>123</td>\n",
       "      <td>142</td>\n",
       "      <td>134</td>\n",
       "      <td>153</td>\n",
       "      <td>152</td>\n",
       "      <td>139</td>\n",
       "      <td>213</td>\n",
       "      <td>193</td>\n",
       "      <td>...</td>\n",
       "      <td>117</td>\n",
       "      <td>203</td>\n",
       "      <td>136</td>\n",
       "      <td>118</td>\n",
       "      <td>234</td>\n",
       "      <td>297</td>\n",
       "      <td>267</td>\n",
       "      <td>290</td>\n",
       "      <td>255</td>\n",
       "      <td>397</td>\n",
       "    </tr>\n",
       "    <tr>\n",
       "      <th>7066</th>\n",
       "      <td>Z17240_at</td>\n",
       "      <td>44</td>\n",
       "      <td>43</td>\n",
       "      <td>44</td>\n",
       "      <td>38</td>\n",
       "      <td>42</td>\n",
       "      <td>46</td>\n",
       "      <td>46</td>\n",
       "      <td>52</td>\n",
       "      <td>32</td>\n",
       "      <td>...</td>\n",
       "      <td>30</td>\n",
       "      <td>37</td>\n",
       "      <td>39</td>\n",
       "      <td>20</td>\n",
       "      <td>47</td>\n",
       "      <td>39</td>\n",
       "      <td>42</td>\n",
       "      <td>36</td>\n",
       "      <td>44</td>\n",
       "      <td>38</td>\n",
       "    </tr>\n",
       "    <tr>\n",
       "      <th>7068</th>\n",
       "      <td>M71243_f_at</td>\n",
       "      <td>30</td>\n",
       "      <td>31</td>\n",
       "      <td>28</td>\n",
       "      <td>21</td>\n",
       "      <td>26</td>\n",
       "      <td>29</td>\n",
       "      <td>32</td>\n",
       "      <td>57</td>\n",
       "      <td>34</td>\n",
       "      <td>...</td>\n",
       "      <td>27</td>\n",
       "      <td>26</td>\n",
       "      <td>22</td>\n",
       "      <td>20</td>\n",
       "      <td>27</td>\n",
       "      <td>27</td>\n",
       "      <td>30</td>\n",
       "      <td>21</td>\n",
       "      <td>33</td>\n",
       "      <td>24</td>\n",
       "    </tr>\n",
       "  </tbody>\n",
       "</table>\n",
       "<p>6413 rows × 70 columns</p>\n",
       "</div>\n",
       "      <button class=\"colab-df-convert\" onclick=\"convertToInteractive('df-9b75fea8-d852-4e72-8982-27c9f5359b6e')\"\n",
       "              title=\"Convert this dataframe to an interactive table.\"\n",
       "              style=\"display:none;\">\n",
       "        \n",
       "  <svg xmlns=\"http://www.w3.org/2000/svg\" height=\"24px\"viewBox=\"0 0 24 24\"\n",
       "       width=\"24px\">\n",
       "    <path d=\"M0 0h24v24H0V0z\" fill=\"none\"/>\n",
       "    <path d=\"M18.56 5.44l.94 2.06.94-2.06 2.06-.94-2.06-.94-.94-2.06-.94 2.06-2.06.94zm-11 1L8.5 8.5l.94-2.06 2.06-.94-2.06-.94L8.5 2.5l-.94 2.06-2.06.94zm10 10l.94 2.06.94-2.06 2.06-.94-2.06-.94-.94-2.06-.94 2.06-2.06.94z\"/><path d=\"M17.41 7.96l-1.37-1.37c-.4-.4-.92-.59-1.43-.59-.52 0-1.04.2-1.43.59L10.3 9.45l-7.72 7.72c-.78.78-.78 2.05 0 2.83L4 21.41c.39.39.9.59 1.41.59.51 0 1.02-.2 1.41-.59l7.78-7.78 2.81-2.81c.8-.78.8-2.07 0-2.86zM5.41 20L4 18.59l7.72-7.72 1.47 1.35L5.41 20z\"/>\n",
       "  </svg>\n",
       "      </button>\n",
       "      \n",
       "  <style>\n",
       "    .colab-df-container {\n",
       "      display:flex;\n",
       "      flex-wrap:wrap;\n",
       "      gap: 12px;\n",
       "    }\n",
       "\n",
       "    .colab-df-convert {\n",
       "      background-color: #E8F0FE;\n",
       "      border: none;\n",
       "      border-radius: 50%;\n",
       "      cursor: pointer;\n",
       "      display: none;\n",
       "      fill: #1967D2;\n",
       "      height: 32px;\n",
       "      padding: 0 0 0 0;\n",
       "      width: 32px;\n",
       "    }\n",
       "\n",
       "    .colab-df-convert:hover {\n",
       "      background-color: #E2EBFA;\n",
       "      box-shadow: 0px 1px 2px rgba(60, 64, 67, 0.3), 0px 1px 3px 1px rgba(60, 64, 67, 0.15);\n",
       "      fill: #174EA6;\n",
       "    }\n",
       "\n",
       "    [theme=dark] .colab-df-convert {\n",
       "      background-color: #3B4455;\n",
       "      fill: #D2E3FC;\n",
       "    }\n",
       "\n",
       "    [theme=dark] .colab-df-convert:hover {\n",
       "      background-color: #434B5C;\n",
       "      box-shadow: 0px 1px 3px 1px rgba(0, 0, 0, 0.15);\n",
       "      filter: drop-shadow(0px 1px 2px rgba(0, 0, 0, 0.3));\n",
       "      fill: #FFFFFF;\n",
       "    }\n",
       "  </style>\n",
       "\n",
       "      <script>\n",
       "        const buttonEl =\n",
       "          document.querySelector('#df-9b75fea8-d852-4e72-8982-27c9f5359b6e button.colab-df-convert');\n",
       "        buttonEl.style.display =\n",
       "          google.colab.kernel.accessAllowed ? 'block' : 'none';\n",
       "\n",
       "        async function convertToInteractive(key) {\n",
       "          const element = document.querySelector('#df-9b75fea8-d852-4e72-8982-27c9f5359b6e');\n",
       "          const dataTable =\n",
       "            await google.colab.kernel.invokeFunction('convertToInteractive',\n",
       "                                                     [key], {});\n",
       "          if (!dataTable) return;\n",
       "\n",
       "          const docLinkHtml = 'Like what you see? Visit the ' +\n",
       "            '<a target=\"_blank\" href=https://colab.research.google.com/notebooks/data_table.ipynb>data table notebook</a>'\n",
       "            + ' to learn more about interactive tables.';\n",
       "          element.innerHTML = '';\n",
       "          dataTable['output_type'] = 'display_data';\n",
       "          await google.colab.output.renderOutput(dataTable, element);\n",
       "          const docLink = document.createElement('div');\n",
       "          docLink.innerHTML = docLinkHtml;\n",
       "          element.appendChild(docLink);\n",
       "        }\n",
       "      </script>\n",
       "    </div>\n",
       "  </div>\n",
       "  "
      ],
      "text/plain": [
       "              SNO    1    2    3    4    5    6    7    8    9  ...   60   61  \\\n",
       "0       A28102_at   30   46   31   31   26   28   35   29   21  ...   35   49   \n",
       "1     AB000114_at   22   31   20   20   26   24   29   20   23  ...   38   30   \n",
       "2     AB000115_at   29   70   20   20   20   20   20   20   20  ...   20  205   \n",
       "3     AB000220_at   76  208  244   39   85   23  634  159   50  ...   55  203   \n",
       "4     AB000409_at  167  211  179  119  161  166  228  267  260  ...  137  180   \n",
       "...           ...  ...  ...  ...  ...  ...  ...  ...  ...  ...  ...  ...  ...   \n",
       "7061    U58516_at  161  265  126  163  138  107   99  137  161  ...  410  238   \n",
       "7063    X06956_at   34   98   21   20   29   20   57   20   23  ...  101   25   \n",
       "7065    X83863_at  116  123  142  134  153  152  139  213  193  ...  117  203   \n",
       "7066    Z17240_at   44   43   44   38   42   46   46   52   32  ...   30   37   \n",
       "7068  M71243_f_at   30   31   28   21   26   29   32   57   34  ...   27   26   \n",
       "\n",
       "       62   63   64   65   66   67   68   69  \n",
       "0      31   51   71   68   77   56   41   38  \n",
       "1      22   24   20   21   22   25   21   20  \n",
       "2      20   61   62   35   30   65   32   25  \n",
       "3     152   53   28   30   31   31   27   20  \n",
       "4     107  147  170  131  132  158  164  172  \n",
       "...   ...  ...  ...  ...  ...  ...  ...  ...  \n",
       "7061  718  374  198  364  251  315  248  285  \n",
       "7063   39   56   26   34   45   27   46   61  \n",
       "7065  136  118  234  297  267  290  255  397  \n",
       "7066   39   20   47   39   42   36   44   38  \n",
       "7068   22   20   27   27   30   21   33   24  \n",
       "\n",
       "[6413 rows x 70 columns]"
      ]
     },
     "execution_count": 465,
     "metadata": {},
     "output_type": "execute_result"
    }
   ],
   "source": [
    "train_data"
   ]
  },
  {
   "cell_type": "code",
   "execution_count": 466,
   "metadata": {
    "colab": {
     "base_uri": "https://localhost:8080/",
     "height": 423
    },
    "executionInfo": {
     "elapsed": 7,
     "status": "ok",
     "timestamp": 1659769228569,
     "user": {
      "displayName": "JY Chen",
      "userId": "02001438925355313864"
     },
     "user_tz": 240
    },
    "id": "BFtghyjMm-DN",
    "outputId": "95c2b8ef-5256-4814-b0ce-c6a05ee8192f"
   },
   "outputs": [
    {
     "data": {
      "text/html": [
       "\n",
       "  <div id=\"df-dd838ec7-e7f5-49f2-b334-4a70bc4e7982\">\n",
       "    <div class=\"colab-df-container\">\n",
       "      <div>\n",
       "<style scoped>\n",
       "    .dataframe tbody tr th:only-of-type {\n",
       "        vertical-align: middle;\n",
       "    }\n",
       "\n",
       "    .dataframe tbody tr th {\n",
       "        vertical-align: top;\n",
       "    }\n",
       "\n",
       "    .dataframe thead th {\n",
       "        text-align: right;\n",
       "    }\n",
       "</style>\n",
       "<table border=\"1\" class=\"dataframe\">\n",
       "  <thead>\n",
       "    <tr style=\"text-align: right;\">\n",
       "      <th></th>\n",
       "      <th>SNO</th>\n",
       "      <th>101</th>\n",
       "      <th>102</th>\n",
       "      <th>103</th>\n",
       "      <th>104</th>\n",
       "      <th>105</th>\n",
       "      <th>106</th>\n",
       "      <th>107</th>\n",
       "      <th>108</th>\n",
       "      <th>109</th>\n",
       "      <th>...</th>\n",
       "      <th>114</th>\n",
       "      <th>115</th>\n",
       "      <th>116</th>\n",
       "      <th>117</th>\n",
       "      <th>118</th>\n",
       "      <th>119</th>\n",
       "      <th>120</th>\n",
       "      <th>121</th>\n",
       "      <th>122</th>\n",
       "      <th>123</th>\n",
       "    </tr>\n",
       "  </thead>\n",
       "  <tbody>\n",
       "    <tr>\n",
       "      <th>0</th>\n",
       "      <td>A28102_at</td>\n",
       "      <td>58</td>\n",
       "      <td>52</td>\n",
       "      <td>20</td>\n",
       "      <td>46</td>\n",
       "      <td>48</td>\n",
       "      <td>31</td>\n",
       "      <td>20</td>\n",
       "      <td>23</td>\n",
       "      <td>47</td>\n",
       "      <td>...</td>\n",
       "      <td>20</td>\n",
       "      <td>20</td>\n",
       "      <td>20</td>\n",
       "      <td>70</td>\n",
       "      <td>50</td>\n",
       "      <td>29</td>\n",
       "      <td>47</td>\n",
       "      <td>44</td>\n",
       "      <td>56</td>\n",
       "      <td>119</td>\n",
       "    </tr>\n",
       "    <tr>\n",
       "      <th>1</th>\n",
       "      <td>AB000114_at</td>\n",
       "      <td>36</td>\n",
       "      <td>34</td>\n",
       "      <td>32</td>\n",
       "      <td>30</td>\n",
       "      <td>22</td>\n",
       "      <td>57</td>\n",
       "      <td>20</td>\n",
       "      <td>20</td>\n",
       "      <td>29</td>\n",
       "      <td>...</td>\n",
       "      <td>20</td>\n",
       "      <td>57</td>\n",
       "      <td>25</td>\n",
       "      <td>50</td>\n",
       "      <td>36</td>\n",
       "      <td>26</td>\n",
       "      <td>28</td>\n",
       "      <td>34</td>\n",
       "      <td>45</td>\n",
       "      <td>53</td>\n",
       "    </tr>\n",
       "    <tr>\n",
       "      <th>2</th>\n",
       "      <td>AB000115_at</td>\n",
       "      <td>20</td>\n",
       "      <td>255</td>\n",
       "      <td>20</td>\n",
       "      <td>20</td>\n",
       "      <td>20</td>\n",
       "      <td>20</td>\n",
       "      <td>20</td>\n",
       "      <td>20</td>\n",
       "      <td>33</td>\n",
       "      <td>...</td>\n",
       "      <td>20</td>\n",
       "      <td>20</td>\n",
       "      <td>20</td>\n",
       "      <td>148</td>\n",
       "      <td>145</td>\n",
       "      <td>20</td>\n",
       "      <td>361</td>\n",
       "      <td>20</td>\n",
       "      <td>20</td>\n",
       "      <td>34</td>\n",
       "    </tr>\n",
       "    <tr>\n",
       "      <th>3</th>\n",
       "      <td>AB000220_at</td>\n",
       "      <td>64</td>\n",
       "      <td>20</td>\n",
       "      <td>133</td>\n",
       "      <td>62</td>\n",
       "      <td>110</td>\n",
       "      <td>77</td>\n",
       "      <td>22</td>\n",
       "      <td>33</td>\n",
       "      <td>132</td>\n",
       "      <td>...</td>\n",
       "      <td>84</td>\n",
       "      <td>34</td>\n",
       "      <td>30</td>\n",
       "      <td>69</td>\n",
       "      <td>108</td>\n",
       "      <td>75</td>\n",
       "      <td>184</td>\n",
       "      <td>57</td>\n",
       "      <td>26</td>\n",
       "      <td>83</td>\n",
       "    </tr>\n",
       "    <tr>\n",
       "      <th>4</th>\n",
       "      <td>AB000409_at</td>\n",
       "      <td>20</td>\n",
       "      <td>220</td>\n",
       "      <td>186</td>\n",
       "      <td>232</td>\n",
       "      <td>169</td>\n",
       "      <td>251</td>\n",
       "      <td>210</td>\n",
       "      <td>142</td>\n",
       "      <td>131</td>\n",
       "      <td>...</td>\n",
       "      <td>209</td>\n",
       "      <td>166</td>\n",
       "      <td>260</td>\n",
       "      <td>241</td>\n",
       "      <td>165</td>\n",
       "      <td>111</td>\n",
       "      <td>170</td>\n",
       "      <td>147</td>\n",
       "      <td>246</td>\n",
       "      <td>204</td>\n",
       "    </tr>\n",
       "    <tr>\n",
       "      <th>...</th>\n",
       "      <td>...</td>\n",
       "      <td>...</td>\n",
       "      <td>...</td>\n",
       "      <td>...</td>\n",
       "      <td>...</td>\n",
       "      <td>...</td>\n",
       "      <td>...</td>\n",
       "      <td>...</td>\n",
       "      <td>...</td>\n",
       "      <td>...</td>\n",
       "      <td>...</td>\n",
       "      <td>...</td>\n",
       "      <td>...</td>\n",
       "      <td>...</td>\n",
       "      <td>...</td>\n",
       "      <td>...</td>\n",
       "      <td>...</td>\n",
       "      <td>...</td>\n",
       "      <td>...</td>\n",
       "      <td>...</td>\n",
       "      <td>...</td>\n",
       "    </tr>\n",
       "    <tr>\n",
       "      <th>7061</th>\n",
       "      <td>U58516_at</td>\n",
       "      <td>216</td>\n",
       "      <td>236</td>\n",
       "      <td>138</td>\n",
       "      <td>152</td>\n",
       "      <td>146</td>\n",
       "      <td>102</td>\n",
       "      <td>138</td>\n",
       "      <td>98</td>\n",
       "      <td>165</td>\n",
       "      <td>...</td>\n",
       "      <td>80</td>\n",
       "      <td>74</td>\n",
       "      <td>95</td>\n",
       "      <td>326</td>\n",
       "      <td>143</td>\n",
       "      <td>225</td>\n",
       "      <td>197</td>\n",
       "      <td>201</td>\n",
       "      <td>135</td>\n",
       "      <td>236</td>\n",
       "    </tr>\n",
       "    <tr>\n",
       "      <th>7063</th>\n",
       "      <td>X06956_at</td>\n",
       "      <td>20</td>\n",
       "      <td>20</td>\n",
       "      <td>33</td>\n",
       "      <td>20</td>\n",
       "      <td>28</td>\n",
       "      <td>20</td>\n",
       "      <td>55</td>\n",
       "      <td>22</td>\n",
       "      <td>31</td>\n",
       "      <td>...</td>\n",
       "      <td>20</td>\n",
       "      <td>20</td>\n",
       "      <td>20</td>\n",
       "      <td>20</td>\n",
       "      <td>23</td>\n",
       "      <td>20</td>\n",
       "      <td>26</td>\n",
       "      <td>52</td>\n",
       "      <td>20</td>\n",
       "      <td>20</td>\n",
       "    </tr>\n",
       "    <tr>\n",
       "      <th>7065</th>\n",
       "      <td>X83863_at</td>\n",
       "      <td>288</td>\n",
       "      <td>161</td>\n",
       "      <td>400</td>\n",
       "      <td>206</td>\n",
       "      <td>171</td>\n",
       "      <td>257</td>\n",
       "      <td>216</td>\n",
       "      <td>155</td>\n",
       "      <td>284</td>\n",
       "      <td>...</td>\n",
       "      <td>164</td>\n",
       "      <td>494</td>\n",
       "      <td>197</td>\n",
       "      <td>277</td>\n",
       "      <td>147</td>\n",
       "      <td>113</td>\n",
       "      <td>136</td>\n",
       "      <td>157</td>\n",
       "      <td>176</td>\n",
       "      <td>198</td>\n",
       "    </tr>\n",
       "    <tr>\n",
       "      <th>7066</th>\n",
       "      <td>Z17240_at</td>\n",
       "      <td>74</td>\n",
       "      <td>33</td>\n",
       "      <td>36</td>\n",
       "      <td>44</td>\n",
       "      <td>42</td>\n",
       "      <td>43</td>\n",
       "      <td>23</td>\n",
       "      <td>51</td>\n",
       "      <td>35</td>\n",
       "      <td>...</td>\n",
       "      <td>39</td>\n",
       "      <td>104</td>\n",
       "      <td>40</td>\n",
       "      <td>31</td>\n",
       "      <td>44</td>\n",
       "      <td>39</td>\n",
       "      <td>55</td>\n",
       "      <td>48</td>\n",
       "      <td>62</td>\n",
       "      <td>37</td>\n",
       "    </tr>\n",
       "    <tr>\n",
       "      <th>7068</th>\n",
       "      <td>M71243_f_at</td>\n",
       "      <td>61</td>\n",
       "      <td>22</td>\n",
       "      <td>55</td>\n",
       "      <td>51</td>\n",
       "      <td>20</td>\n",
       "      <td>82</td>\n",
       "      <td>48</td>\n",
       "      <td>34</td>\n",
       "      <td>24</td>\n",
       "      <td>...</td>\n",
       "      <td>37</td>\n",
       "      <td>36</td>\n",
       "      <td>62</td>\n",
       "      <td>27</td>\n",
       "      <td>24</td>\n",
       "      <td>20</td>\n",
       "      <td>41</td>\n",
       "      <td>34</td>\n",
       "      <td>55</td>\n",
       "      <td>60</td>\n",
       "    </tr>\n",
       "  </tbody>\n",
       "</table>\n",
       "<p>6413 rows × 24 columns</p>\n",
       "</div>\n",
       "      <button class=\"colab-df-convert\" onclick=\"convertToInteractive('df-dd838ec7-e7f5-49f2-b334-4a70bc4e7982')\"\n",
       "              title=\"Convert this dataframe to an interactive table.\"\n",
       "              style=\"display:none;\">\n",
       "        \n",
       "  <svg xmlns=\"http://www.w3.org/2000/svg\" height=\"24px\"viewBox=\"0 0 24 24\"\n",
       "       width=\"24px\">\n",
       "    <path d=\"M0 0h24v24H0V0z\" fill=\"none\"/>\n",
       "    <path d=\"M18.56 5.44l.94 2.06.94-2.06 2.06-.94-2.06-.94-.94-2.06-.94 2.06-2.06.94zm-11 1L8.5 8.5l.94-2.06 2.06-.94-2.06-.94L8.5 2.5l-.94 2.06-2.06.94zm10 10l.94 2.06.94-2.06 2.06-.94-2.06-.94-.94-2.06-.94 2.06-2.06.94z\"/><path d=\"M17.41 7.96l-1.37-1.37c-.4-.4-.92-.59-1.43-.59-.52 0-1.04.2-1.43.59L10.3 9.45l-7.72 7.72c-.78.78-.78 2.05 0 2.83L4 21.41c.39.39.9.59 1.41.59.51 0 1.02-.2 1.41-.59l7.78-7.78 2.81-2.81c.8-.78.8-2.07 0-2.86zM5.41 20L4 18.59l7.72-7.72 1.47 1.35L5.41 20z\"/>\n",
       "  </svg>\n",
       "      </button>\n",
       "      \n",
       "  <style>\n",
       "    .colab-df-container {\n",
       "      display:flex;\n",
       "      flex-wrap:wrap;\n",
       "      gap: 12px;\n",
       "    }\n",
       "\n",
       "    .colab-df-convert {\n",
       "      background-color: #E8F0FE;\n",
       "      border: none;\n",
       "      border-radius: 50%;\n",
       "      cursor: pointer;\n",
       "      display: none;\n",
       "      fill: #1967D2;\n",
       "      height: 32px;\n",
       "      padding: 0 0 0 0;\n",
       "      width: 32px;\n",
       "    }\n",
       "\n",
       "    .colab-df-convert:hover {\n",
       "      background-color: #E2EBFA;\n",
       "      box-shadow: 0px 1px 2px rgba(60, 64, 67, 0.3), 0px 1px 3px 1px rgba(60, 64, 67, 0.15);\n",
       "      fill: #174EA6;\n",
       "    }\n",
       "\n",
       "    [theme=dark] .colab-df-convert {\n",
       "      background-color: #3B4455;\n",
       "      fill: #D2E3FC;\n",
       "    }\n",
       "\n",
       "    [theme=dark] .colab-df-convert:hover {\n",
       "      background-color: #434B5C;\n",
       "      box-shadow: 0px 1px 3px 1px rgba(0, 0, 0, 0.15);\n",
       "      filter: drop-shadow(0px 1px 2px rgba(0, 0, 0, 0.3));\n",
       "      fill: #FFFFFF;\n",
       "    }\n",
       "  </style>\n",
       "\n",
       "      <script>\n",
       "        const buttonEl =\n",
       "          document.querySelector('#df-dd838ec7-e7f5-49f2-b334-4a70bc4e7982 button.colab-df-convert');\n",
       "        buttonEl.style.display =\n",
       "          google.colab.kernel.accessAllowed ? 'block' : 'none';\n",
       "\n",
       "        async function convertToInteractive(key) {\n",
       "          const element = document.querySelector('#df-dd838ec7-e7f5-49f2-b334-4a70bc4e7982');\n",
       "          const dataTable =\n",
       "            await google.colab.kernel.invokeFunction('convertToInteractive',\n",
       "                                                     [key], {});\n",
       "          if (!dataTable) return;\n",
       "\n",
       "          const docLinkHtml = 'Like what you see? Visit the ' +\n",
       "            '<a target=\"_blank\" href=https://colab.research.google.com/notebooks/data_table.ipynb>data table notebook</a>'\n",
       "            + ' to learn more about interactive tables.';\n",
       "          element.innerHTML = '';\n",
       "          dataTable['output_type'] = 'display_data';\n",
       "          await google.colab.output.renderOutput(dataTable, element);\n",
       "          const docLink = document.createElement('div');\n",
       "          docLink.innerHTML = docLinkHtml;\n",
       "          element.appendChild(docLink);\n",
       "        }\n",
       "      </script>\n",
       "    </div>\n",
       "  </div>\n",
       "  "
      ],
      "text/plain": [
       "              SNO  101  102  103  104  105  106  107  108  109  ...  114  115  \\\n",
       "0       A28102_at   58   52   20   46   48   31   20   23   47  ...   20   20   \n",
       "1     AB000114_at   36   34   32   30   22   57   20   20   29  ...   20   57   \n",
       "2     AB000115_at   20  255   20   20   20   20   20   20   33  ...   20   20   \n",
       "3     AB000220_at   64   20  133   62  110   77   22   33  132  ...   84   34   \n",
       "4     AB000409_at   20  220  186  232  169  251  210  142  131  ...  209  166   \n",
       "...           ...  ...  ...  ...  ...  ...  ...  ...  ...  ...  ...  ...  ...   \n",
       "7061    U58516_at  216  236  138  152  146  102  138   98  165  ...   80   74   \n",
       "7063    X06956_at   20   20   33   20   28   20   55   22   31  ...   20   20   \n",
       "7065    X83863_at  288  161  400  206  171  257  216  155  284  ...  164  494   \n",
       "7066    Z17240_at   74   33   36   44   42   43   23   51   35  ...   39  104   \n",
       "7068  M71243_f_at   61   22   55   51   20   82   48   34   24  ...   37   36   \n",
       "\n",
       "      116  117  118  119  120  121  122  123  \n",
       "0      20   70   50   29   47   44   56  119  \n",
       "1      25   50   36   26   28   34   45   53  \n",
       "2      20  148  145   20  361   20   20   34  \n",
       "3      30   69  108   75  184   57   26   83  \n",
       "4     260  241  165  111  170  147  246  204  \n",
       "...   ...  ...  ...  ...  ...  ...  ...  ...  \n",
       "7061   95  326  143  225  197  201  135  236  \n",
       "7063   20   20   23   20   26   52   20   20  \n",
       "7065  197  277  147  113  136  157  176  198  \n",
       "7066   40   31   44   39   55   48   62   37  \n",
       "7068   62   27   24   20   41   34   55   60  \n",
       "\n",
       "[6413 rows x 24 columns]"
      ]
     },
     "execution_count": 466,
     "metadata": {},
     "output_type": "execute_result"
    }
   ],
   "source": [
    "test_data"
   ]
  },
  {
   "cell_type": "markdown",
   "metadata": {
    "id": "NQx4sEsGvo_L"
   },
   "source": [
    "In order to use f_classif to get T value, turn train class into number."
   ]
  },
  {
   "cell_type": "code",
   "execution_count": 467,
   "metadata": {
    "executionInfo": {
     "elapsed": 684,
     "status": "ok",
     "timestamp": 1659769229246,
     "user": {
      "displayName": "JY Chen",
      "userId": "02001438925355313864"
     },
     "user_tz": 240
    },
    "id": "Hpcc4Yjxvqxt"
   },
   "outputs": [],
   "source": [
    "from sklearn.feature_selection import f_classif\n",
    "return_array = f_classif(train_data.T[1:], train_class)\n",
    "train_data['T value'] = return_array[0]\n",
    "test_data['T value'] = return_array[0]\n",
    "\n",
    "train_data = train_data.sort_values('T value', ascending=False)\n",
    "test_data = test_data.sort_values('T value', ascending=False)"
   ]
  },
  {
   "cell_type": "code",
   "execution_count": 468,
   "metadata": {
    "colab": {
     "base_uri": "https://localhost:8080/",
     "height": 423
    },
    "executionInfo": {
     "elapsed": 12,
     "status": "ok",
     "timestamp": 1659769229251,
     "user": {
      "displayName": "JY Chen",
      "userId": "02001438925355313864"
     },
     "user_tz": 240
    },
    "id": "FqR8Z_LBv6Nj",
    "outputId": "fbe938ab-c79e-47ac-811e-7b72c405dedf"
   },
   "outputs": [
    {
     "data": {
      "text/html": [
       "\n",
       "  <div id=\"df-479f1b88-329e-42d8-9e97-06295309640c\">\n",
       "    <div class=\"colab-df-container\">\n",
       "      <div>\n",
       "<style scoped>\n",
       "    .dataframe tbody tr th:only-of-type {\n",
       "        vertical-align: middle;\n",
       "    }\n",
       "\n",
       "    .dataframe tbody tr th {\n",
       "        vertical-align: top;\n",
       "    }\n",
       "\n",
       "    .dataframe thead th {\n",
       "        text-align: right;\n",
       "    }\n",
       "</style>\n",
       "<table border=\"1\" class=\"dataframe\">\n",
       "  <thead>\n",
       "    <tr style=\"text-align: right;\">\n",
       "      <th></th>\n",
       "      <th>SNO</th>\n",
       "      <th>1</th>\n",
       "      <th>2</th>\n",
       "      <th>3</th>\n",
       "      <th>4</th>\n",
       "      <th>5</th>\n",
       "      <th>6</th>\n",
       "      <th>7</th>\n",
       "      <th>8</th>\n",
       "      <th>9</th>\n",
       "      <th>...</th>\n",
       "      <th>61</th>\n",
       "      <th>62</th>\n",
       "      <th>63</th>\n",
       "      <th>64</th>\n",
       "      <th>65</th>\n",
       "      <th>66</th>\n",
       "      <th>67</th>\n",
       "      <th>68</th>\n",
       "      <th>69</th>\n",
       "      <th>T value</th>\n",
       "    </tr>\n",
       "  </thead>\n",
       "  <tbody>\n",
       "    <tr>\n",
       "      <th>2506</th>\n",
       "      <td>U00921_at</td>\n",
       "      <td>20</td>\n",
       "      <td>20</td>\n",
       "      <td>20</td>\n",
       "      <td>20</td>\n",
       "      <td>20</td>\n",
       "      <td>20</td>\n",
       "      <td>20</td>\n",
       "      <td>20</td>\n",
       "      <td>20</td>\n",
       "      <td>...</td>\n",
       "      <td>26</td>\n",
       "      <td>20</td>\n",
       "      <td>44</td>\n",
       "      <td>155</td>\n",
       "      <td>92</td>\n",
       "      <td>118</td>\n",
       "      <td>115</td>\n",
       "      <td>102</td>\n",
       "      <td>119</td>\n",
       "      <td>222.388504</td>\n",
       "    </tr>\n",
       "    <tr>\n",
       "      <th>6528</th>\n",
       "      <td>U59877_s_at</td>\n",
       "      <td>20</td>\n",
       "      <td>45</td>\n",
       "      <td>20</td>\n",
       "      <td>20</td>\n",
       "      <td>20</td>\n",
       "      <td>20</td>\n",
       "      <td>20</td>\n",
       "      <td>20</td>\n",
       "      <td>20</td>\n",
       "      <td>...</td>\n",
       "      <td>285</td>\n",
       "      <td>341</td>\n",
       "      <td>381</td>\n",
       "      <td>924</td>\n",
       "      <td>1499</td>\n",
       "      <td>923</td>\n",
       "      <td>1358</td>\n",
       "      <td>1081</td>\n",
       "      <td>1120</td>\n",
       "      <td>166.874021</td>\n",
       "    </tr>\n",
       "    <tr>\n",
       "      <th>6663</th>\n",
       "      <td>AF000424_s_at</td>\n",
       "      <td>20</td>\n",
       "      <td>20</td>\n",
       "      <td>20</td>\n",
       "      <td>20</td>\n",
       "      <td>20</td>\n",
       "      <td>20</td>\n",
       "      <td>20</td>\n",
       "      <td>20</td>\n",
       "      <td>20</td>\n",
       "      <td>...</td>\n",
       "      <td>20</td>\n",
       "      <td>20</td>\n",
       "      <td>34</td>\n",
       "      <td>128</td>\n",
       "      <td>63</td>\n",
       "      <td>73</td>\n",
       "      <td>102</td>\n",
       "      <td>94</td>\n",
       "      <td>92</td>\n",
       "      <td>162.284150</td>\n",
       "    </tr>\n",
       "    <tr>\n",
       "      <th>5503</th>\n",
       "      <td>D13631_s_at</td>\n",
       "      <td>21</td>\n",
       "      <td>54</td>\n",
       "      <td>20</td>\n",
       "      <td>31</td>\n",
       "      <td>20</td>\n",
       "      <td>20</td>\n",
       "      <td>20</td>\n",
       "      <td>20</td>\n",
       "      <td>20</td>\n",
       "      <td>...</td>\n",
       "      <td>114</td>\n",
       "      <td>141</td>\n",
       "      <td>89</td>\n",
       "      <td>329</td>\n",
       "      <td>365</td>\n",
       "      <td>331</td>\n",
       "      <td>396</td>\n",
       "      <td>314</td>\n",
       "      <td>293</td>\n",
       "      <td>148.242194</td>\n",
       "    </tr>\n",
       "    <tr>\n",
       "      <th>3688</th>\n",
       "      <td>U79242_at</td>\n",
       "      <td>20</td>\n",
       "      <td>20</td>\n",
       "      <td>20</td>\n",
       "      <td>20</td>\n",
       "      <td>32</td>\n",
       "      <td>20</td>\n",
       "      <td>20</td>\n",
       "      <td>20</td>\n",
       "      <td>20</td>\n",
       "      <td>...</td>\n",
       "      <td>31</td>\n",
       "      <td>20</td>\n",
       "      <td>20</td>\n",
       "      <td>261</td>\n",
       "      <td>175</td>\n",
       "      <td>153</td>\n",
       "      <td>192</td>\n",
       "      <td>185</td>\n",
       "      <td>121</td>\n",
       "      <td>139.143388</td>\n",
       "    </tr>\n",
       "    <tr>\n",
       "      <th>...</th>\n",
       "      <td>...</td>\n",
       "      <td>...</td>\n",
       "      <td>...</td>\n",
       "      <td>...</td>\n",
       "      <td>...</td>\n",
       "      <td>...</td>\n",
       "      <td>...</td>\n",
       "      <td>...</td>\n",
       "      <td>...</td>\n",
       "      <td>...</td>\n",
       "      <td>...</td>\n",
       "      <td>...</td>\n",
       "      <td>...</td>\n",
       "      <td>...</td>\n",
       "      <td>...</td>\n",
       "      <td>...</td>\n",
       "      <td>...</td>\n",
       "      <td>...</td>\n",
       "      <td>...</td>\n",
       "      <td>...</td>\n",
       "      <td>...</td>\n",
       "    </tr>\n",
       "    <tr>\n",
       "      <th>6861</th>\n",
       "      <td>X54489_rna1_at</td>\n",
       "      <td>20</td>\n",
       "      <td>20</td>\n",
       "      <td>20</td>\n",
       "      <td>20</td>\n",
       "      <td>20</td>\n",
       "      <td>20</td>\n",
       "      <td>20</td>\n",
       "      <td>20</td>\n",
       "      <td>20</td>\n",
       "      <td>...</td>\n",
       "      <td>20</td>\n",
       "      <td>20</td>\n",
       "      <td>33</td>\n",
       "      <td>20</td>\n",
       "      <td>20</td>\n",
       "      <td>20</td>\n",
       "      <td>20</td>\n",
       "      <td>20</td>\n",
       "      <td>20</td>\n",
       "      <td>0.102060</td>\n",
       "    </tr>\n",
       "    <tr>\n",
       "      <th>1241</th>\n",
       "      <td>L13042_at</td>\n",
       "      <td>50</td>\n",
       "      <td>53</td>\n",
       "      <td>48</td>\n",
       "      <td>42</td>\n",
       "      <td>40</td>\n",
       "      <td>43</td>\n",
       "      <td>61</td>\n",
       "      <td>30</td>\n",
       "      <td>26</td>\n",
       "      <td>...</td>\n",
       "      <td>41</td>\n",
       "      <td>36</td>\n",
       "      <td>34</td>\n",
       "      <td>36</td>\n",
       "      <td>34</td>\n",
       "      <td>48</td>\n",
       "      <td>40</td>\n",
       "      <td>41</td>\n",
       "      <td>30</td>\n",
       "      <td>0.099092</td>\n",
       "    </tr>\n",
       "    <tr>\n",
       "      <th>1658</th>\n",
       "      <td>M14159_cds2_at</td>\n",
       "      <td>48</td>\n",
       "      <td>85</td>\n",
       "      <td>108</td>\n",
       "      <td>27</td>\n",
       "      <td>54</td>\n",
       "      <td>46</td>\n",
       "      <td>24</td>\n",
       "      <td>20</td>\n",
       "      <td>20</td>\n",
       "      <td>...</td>\n",
       "      <td>82</td>\n",
       "      <td>78</td>\n",
       "      <td>35</td>\n",
       "      <td>63</td>\n",
       "      <td>56</td>\n",
       "      <td>20</td>\n",
       "      <td>62</td>\n",
       "      <td>48</td>\n",
       "      <td>38</td>\n",
       "      <td>0.092244</td>\n",
       "    </tr>\n",
       "    <tr>\n",
       "      <th>3355</th>\n",
       "      <td>U56816_at</td>\n",
       "      <td>122</td>\n",
       "      <td>73</td>\n",
       "      <td>79</td>\n",
       "      <td>120</td>\n",
       "      <td>151</td>\n",
       "      <td>119</td>\n",
       "      <td>67</td>\n",
       "      <td>100</td>\n",
       "      <td>40</td>\n",
       "      <td>...</td>\n",
       "      <td>74</td>\n",
       "      <td>103</td>\n",
       "      <td>88</td>\n",
       "      <td>98</td>\n",
       "      <td>93</td>\n",
       "      <td>114</td>\n",
       "      <td>73</td>\n",
       "      <td>76</td>\n",
       "      <td>103</td>\n",
       "      <td>0.081504</td>\n",
       "    </tr>\n",
       "    <tr>\n",
       "      <th>4156</th>\n",
       "      <td>X51757_at</td>\n",
       "      <td>20</td>\n",
       "      <td>20</td>\n",
       "      <td>20</td>\n",
       "      <td>21</td>\n",
       "      <td>20</td>\n",
       "      <td>20</td>\n",
       "      <td>27</td>\n",
       "      <td>20</td>\n",
       "      <td>20</td>\n",
       "      <td>...</td>\n",
       "      <td>52</td>\n",
       "      <td>20</td>\n",
       "      <td>41</td>\n",
       "      <td>47</td>\n",
       "      <td>25</td>\n",
       "      <td>50</td>\n",
       "      <td>25</td>\n",
       "      <td>20</td>\n",
       "      <td>32</td>\n",
       "      <td>0.065644</td>\n",
       "    </tr>\n",
       "  </tbody>\n",
       "</table>\n",
       "<p>6413 rows × 71 columns</p>\n",
       "</div>\n",
       "      <button class=\"colab-df-convert\" onclick=\"convertToInteractive('df-479f1b88-329e-42d8-9e97-06295309640c')\"\n",
       "              title=\"Convert this dataframe to an interactive table.\"\n",
       "              style=\"display:none;\">\n",
       "        \n",
       "  <svg xmlns=\"http://www.w3.org/2000/svg\" height=\"24px\"viewBox=\"0 0 24 24\"\n",
       "       width=\"24px\">\n",
       "    <path d=\"M0 0h24v24H0V0z\" fill=\"none\"/>\n",
       "    <path d=\"M18.56 5.44l.94 2.06.94-2.06 2.06-.94-2.06-.94-.94-2.06-.94 2.06-2.06.94zm-11 1L8.5 8.5l.94-2.06 2.06-.94-2.06-.94L8.5 2.5l-.94 2.06-2.06.94zm10 10l.94 2.06.94-2.06 2.06-.94-2.06-.94-.94-2.06-.94 2.06-2.06.94z\"/><path d=\"M17.41 7.96l-1.37-1.37c-.4-.4-.92-.59-1.43-.59-.52 0-1.04.2-1.43.59L10.3 9.45l-7.72 7.72c-.78.78-.78 2.05 0 2.83L4 21.41c.39.39.9.59 1.41.59.51 0 1.02-.2 1.41-.59l7.78-7.78 2.81-2.81c.8-.78.8-2.07 0-2.86zM5.41 20L4 18.59l7.72-7.72 1.47 1.35L5.41 20z\"/>\n",
       "  </svg>\n",
       "      </button>\n",
       "      \n",
       "  <style>\n",
       "    .colab-df-container {\n",
       "      display:flex;\n",
       "      flex-wrap:wrap;\n",
       "      gap: 12px;\n",
       "    }\n",
       "\n",
       "    .colab-df-convert {\n",
       "      background-color: #E8F0FE;\n",
       "      border: none;\n",
       "      border-radius: 50%;\n",
       "      cursor: pointer;\n",
       "      display: none;\n",
       "      fill: #1967D2;\n",
       "      height: 32px;\n",
       "      padding: 0 0 0 0;\n",
       "      width: 32px;\n",
       "    }\n",
       "\n",
       "    .colab-df-convert:hover {\n",
       "      background-color: #E2EBFA;\n",
       "      box-shadow: 0px 1px 2px rgba(60, 64, 67, 0.3), 0px 1px 3px 1px rgba(60, 64, 67, 0.15);\n",
       "      fill: #174EA6;\n",
       "    }\n",
       "\n",
       "    [theme=dark] .colab-df-convert {\n",
       "      background-color: #3B4455;\n",
       "      fill: #D2E3FC;\n",
       "    }\n",
       "\n",
       "    [theme=dark] .colab-df-convert:hover {\n",
       "      background-color: #434B5C;\n",
       "      box-shadow: 0px 1px 3px 1px rgba(0, 0, 0, 0.15);\n",
       "      filter: drop-shadow(0px 1px 2px rgba(0, 0, 0, 0.3));\n",
       "      fill: #FFFFFF;\n",
       "    }\n",
       "  </style>\n",
       "\n",
       "      <script>\n",
       "        const buttonEl =\n",
       "          document.querySelector('#df-479f1b88-329e-42d8-9e97-06295309640c button.colab-df-convert');\n",
       "        buttonEl.style.display =\n",
       "          google.colab.kernel.accessAllowed ? 'block' : 'none';\n",
       "\n",
       "        async function convertToInteractive(key) {\n",
       "          const element = document.querySelector('#df-479f1b88-329e-42d8-9e97-06295309640c');\n",
       "          const dataTable =\n",
       "            await google.colab.kernel.invokeFunction('convertToInteractive',\n",
       "                                                     [key], {});\n",
       "          if (!dataTable) return;\n",
       "\n",
       "          const docLinkHtml = 'Like what you see? Visit the ' +\n",
       "            '<a target=\"_blank\" href=https://colab.research.google.com/notebooks/data_table.ipynb>data table notebook</a>'\n",
       "            + ' to learn more about interactive tables.';\n",
       "          element.innerHTML = '';\n",
       "          dataTable['output_type'] = 'display_data';\n",
       "          await google.colab.output.renderOutput(dataTable, element);\n",
       "          const docLink = document.createElement('div');\n",
       "          docLink.innerHTML = docLinkHtml;\n",
       "          element.appendChild(docLink);\n",
       "        }\n",
       "      </script>\n",
       "    </div>\n",
       "  </div>\n",
       "  "
      ],
      "text/plain": [
       "                 SNO    1   2    3    4    5    6   7    8   9  ...   61   62  \\\n",
       "2506       U00921_at   20  20   20   20   20   20  20   20  20  ...   26   20   \n",
       "6528     U59877_s_at   20  45   20   20   20   20  20   20  20  ...  285  341   \n",
       "6663   AF000424_s_at   20  20   20   20   20   20  20   20  20  ...   20   20   \n",
       "5503     D13631_s_at   21  54   20   31   20   20  20   20  20  ...  114  141   \n",
       "3688       U79242_at   20  20   20   20   32   20  20   20  20  ...   31   20   \n",
       "...              ...  ...  ..  ...  ...  ...  ...  ..  ...  ..  ...  ...  ...   \n",
       "6861  X54489_rna1_at   20  20   20   20   20   20  20   20  20  ...   20   20   \n",
       "1241       L13042_at   50  53   48   42   40   43  61   30  26  ...   41   36   \n",
       "1658  M14159_cds2_at   48  85  108   27   54   46  24   20  20  ...   82   78   \n",
       "3355       U56816_at  122  73   79  120  151  119  67  100  40  ...   74  103   \n",
       "4156       X51757_at   20  20   20   21   20   20  27   20  20  ...   52   20   \n",
       "\n",
       "       63   64    65   66    67    68    69     T value  \n",
       "2506   44  155    92  118   115   102   119  222.388504  \n",
       "6528  381  924  1499  923  1358  1081  1120  166.874021  \n",
       "6663   34  128    63   73   102    94    92  162.284150  \n",
       "5503   89  329   365  331   396   314   293  148.242194  \n",
       "3688   20  261   175  153   192   185   121  139.143388  \n",
       "...   ...  ...   ...  ...   ...   ...   ...         ...  \n",
       "6861   33   20    20   20    20    20    20    0.102060  \n",
       "1241   34   36    34   48    40    41    30    0.099092  \n",
       "1658   35   63    56   20    62    48    38    0.092244  \n",
       "3355   88   98    93  114    73    76   103    0.081504  \n",
       "4156   41   47    25   50    25    20    32    0.065644  \n",
       "\n",
       "[6413 rows x 71 columns]"
      ]
     },
     "execution_count": 468,
     "metadata": {},
     "output_type": "execute_result"
    }
   ],
   "source": [
    "train_data"
   ]
  },
  {
   "cell_type": "code",
   "execution_count": 469,
   "metadata": {
    "colab": {
     "base_uri": "https://localhost:8080/",
     "height": 423
    },
    "executionInfo": {
     "elapsed": 10,
     "status": "ok",
     "timestamp": 1659769229251,
     "user": {
      "displayName": "JY Chen",
      "userId": "02001438925355313864"
     },
     "user_tz": 240
    },
    "id": "iDGXx0orv6CV",
    "outputId": "b0ba29a8-5ae6-4094-e1d2-2b89334988f6"
   },
   "outputs": [
    {
     "data": {
      "text/html": [
       "\n",
       "  <div id=\"df-0d45d982-c27e-4a2f-9d8f-ff6c4fed81e4\">\n",
       "    <div class=\"colab-df-container\">\n",
       "      <div>\n",
       "<style scoped>\n",
       "    .dataframe tbody tr th:only-of-type {\n",
       "        vertical-align: middle;\n",
       "    }\n",
       "\n",
       "    .dataframe tbody tr th {\n",
       "        vertical-align: top;\n",
       "    }\n",
       "\n",
       "    .dataframe thead th {\n",
       "        text-align: right;\n",
       "    }\n",
       "</style>\n",
       "<table border=\"1\" class=\"dataframe\">\n",
       "  <thead>\n",
       "    <tr style=\"text-align: right;\">\n",
       "      <th></th>\n",
       "      <th>SNO</th>\n",
       "      <th>101</th>\n",
       "      <th>102</th>\n",
       "      <th>103</th>\n",
       "      <th>104</th>\n",
       "      <th>105</th>\n",
       "      <th>106</th>\n",
       "      <th>107</th>\n",
       "      <th>108</th>\n",
       "      <th>109</th>\n",
       "      <th>...</th>\n",
       "      <th>115</th>\n",
       "      <th>116</th>\n",
       "      <th>117</th>\n",
       "      <th>118</th>\n",
       "      <th>119</th>\n",
       "      <th>120</th>\n",
       "      <th>121</th>\n",
       "      <th>122</th>\n",
       "      <th>123</th>\n",
       "      <th>T value</th>\n",
       "    </tr>\n",
       "  </thead>\n",
       "  <tbody>\n",
       "    <tr>\n",
       "      <th>2506</th>\n",
       "      <td>U00921_at</td>\n",
       "      <td>20</td>\n",
       "      <td>25</td>\n",
       "      <td>20</td>\n",
       "      <td>20</td>\n",
       "      <td>20</td>\n",
       "      <td>20</td>\n",
       "      <td>20</td>\n",
       "      <td>20</td>\n",
       "      <td>42</td>\n",
       "      <td>...</td>\n",
       "      <td>20</td>\n",
       "      <td>20</td>\n",
       "      <td>20</td>\n",
       "      <td>20</td>\n",
       "      <td>20</td>\n",
       "      <td>20</td>\n",
       "      <td>20</td>\n",
       "      <td>20</td>\n",
       "      <td>20</td>\n",
       "      <td>222.388504</td>\n",
       "    </tr>\n",
       "    <tr>\n",
       "      <th>6528</th>\n",
       "      <td>U59877_s_at</td>\n",
       "      <td>176</td>\n",
       "      <td>20</td>\n",
       "      <td>20</td>\n",
       "      <td>20</td>\n",
       "      <td>20</td>\n",
       "      <td>20</td>\n",
       "      <td>20</td>\n",
       "      <td>20</td>\n",
       "      <td>96</td>\n",
       "      <td>...</td>\n",
       "      <td>20</td>\n",
       "      <td>20</td>\n",
       "      <td>240</td>\n",
       "      <td>210</td>\n",
       "      <td>20</td>\n",
       "      <td>180</td>\n",
       "      <td>278</td>\n",
       "      <td>20</td>\n",
       "      <td>185</td>\n",
       "      <td>166.874021</td>\n",
       "    </tr>\n",
       "    <tr>\n",
       "      <th>6663</th>\n",
       "      <td>AF000424_s_at</td>\n",
       "      <td>20</td>\n",
       "      <td>20</td>\n",
       "      <td>20</td>\n",
       "      <td>20</td>\n",
       "      <td>20</td>\n",
       "      <td>20</td>\n",
       "      <td>20</td>\n",
       "      <td>20</td>\n",
       "      <td>20</td>\n",
       "      <td>...</td>\n",
       "      <td>20</td>\n",
       "      <td>20</td>\n",
       "      <td>20</td>\n",
       "      <td>20</td>\n",
       "      <td>20</td>\n",
       "      <td>20</td>\n",
       "      <td>20</td>\n",
       "      <td>20</td>\n",
       "      <td>20</td>\n",
       "      <td>162.284150</td>\n",
       "    </tr>\n",
       "    <tr>\n",
       "      <th>5503</th>\n",
       "      <td>D13631_s_at</td>\n",
       "      <td>44</td>\n",
       "      <td>165</td>\n",
       "      <td>20</td>\n",
       "      <td>20</td>\n",
       "      <td>66</td>\n",
       "      <td>20</td>\n",
       "      <td>37</td>\n",
       "      <td>22</td>\n",
       "      <td>72</td>\n",
       "      <td>...</td>\n",
       "      <td>20</td>\n",
       "      <td>20</td>\n",
       "      <td>231</td>\n",
       "      <td>43</td>\n",
       "      <td>20</td>\n",
       "      <td>20</td>\n",
       "      <td>59</td>\n",
       "      <td>20</td>\n",
       "      <td>56</td>\n",
       "      <td>148.242194</td>\n",
       "    </tr>\n",
       "    <tr>\n",
       "      <th>3688</th>\n",
       "      <td>U79242_at</td>\n",
       "      <td>53</td>\n",
       "      <td>20</td>\n",
       "      <td>74</td>\n",
       "      <td>20</td>\n",
       "      <td>42</td>\n",
       "      <td>27</td>\n",
       "      <td>20</td>\n",
       "      <td>20</td>\n",
       "      <td>29</td>\n",
       "      <td>...</td>\n",
       "      <td>21</td>\n",
       "      <td>20</td>\n",
       "      <td>20</td>\n",
       "      <td>20</td>\n",
       "      <td>20</td>\n",
       "      <td>20</td>\n",
       "      <td>70</td>\n",
       "      <td>30</td>\n",
       "      <td>20</td>\n",
       "      <td>139.143388</td>\n",
       "    </tr>\n",
       "    <tr>\n",
       "      <th>...</th>\n",
       "      <td>...</td>\n",
       "      <td>...</td>\n",
       "      <td>...</td>\n",
       "      <td>...</td>\n",
       "      <td>...</td>\n",
       "      <td>...</td>\n",
       "      <td>...</td>\n",
       "      <td>...</td>\n",
       "      <td>...</td>\n",
       "      <td>...</td>\n",
       "      <td>...</td>\n",
       "      <td>...</td>\n",
       "      <td>...</td>\n",
       "      <td>...</td>\n",
       "      <td>...</td>\n",
       "      <td>...</td>\n",
       "      <td>...</td>\n",
       "      <td>...</td>\n",
       "      <td>...</td>\n",
       "      <td>...</td>\n",
       "      <td>...</td>\n",
       "    </tr>\n",
       "    <tr>\n",
       "      <th>6861</th>\n",
       "      <td>X54489_rna1_at</td>\n",
       "      <td>20</td>\n",
       "      <td>20</td>\n",
       "      <td>20</td>\n",
       "      <td>20</td>\n",
       "      <td>20</td>\n",
       "      <td>20</td>\n",
       "      <td>20</td>\n",
       "      <td>20</td>\n",
       "      <td>232</td>\n",
       "      <td>...</td>\n",
       "      <td>20</td>\n",
       "      <td>20</td>\n",
       "      <td>20</td>\n",
       "      <td>20</td>\n",
       "      <td>20</td>\n",
       "      <td>20</td>\n",
       "      <td>20</td>\n",
       "      <td>20</td>\n",
       "      <td>20</td>\n",
       "      <td>0.102060</td>\n",
       "    </tr>\n",
       "    <tr>\n",
       "      <th>1241</th>\n",
       "      <td>L13042_at</td>\n",
       "      <td>39</td>\n",
       "      <td>49</td>\n",
       "      <td>20</td>\n",
       "      <td>47</td>\n",
       "      <td>50</td>\n",
       "      <td>21</td>\n",
       "      <td>30</td>\n",
       "      <td>42</td>\n",
       "      <td>42</td>\n",
       "      <td>...</td>\n",
       "      <td>36</td>\n",
       "      <td>30</td>\n",
       "      <td>39</td>\n",
       "      <td>52</td>\n",
       "      <td>39</td>\n",
       "      <td>55</td>\n",
       "      <td>44</td>\n",
       "      <td>53</td>\n",
       "      <td>26</td>\n",
       "      <td>0.099092</td>\n",
       "    </tr>\n",
       "    <tr>\n",
       "      <th>1658</th>\n",
       "      <td>M14159_cds2_at</td>\n",
       "      <td>60</td>\n",
       "      <td>55</td>\n",
       "      <td>69</td>\n",
       "      <td>30</td>\n",
       "      <td>20</td>\n",
       "      <td>20</td>\n",
       "      <td>20</td>\n",
       "      <td>74</td>\n",
       "      <td>20</td>\n",
       "      <td>...</td>\n",
       "      <td>20</td>\n",
       "      <td>20</td>\n",
       "      <td>20</td>\n",
       "      <td>126</td>\n",
       "      <td>51</td>\n",
       "      <td>20</td>\n",
       "      <td>139</td>\n",
       "      <td>20</td>\n",
       "      <td>40</td>\n",
       "      <td>0.092244</td>\n",
       "    </tr>\n",
       "    <tr>\n",
       "      <th>3355</th>\n",
       "      <td>U56816_at</td>\n",
       "      <td>211</td>\n",
       "      <td>85</td>\n",
       "      <td>167</td>\n",
       "      <td>99</td>\n",
       "      <td>124</td>\n",
       "      <td>20</td>\n",
       "      <td>45</td>\n",
       "      <td>115</td>\n",
       "      <td>122</td>\n",
       "      <td>...</td>\n",
       "      <td>20</td>\n",
       "      <td>61</td>\n",
       "      <td>155</td>\n",
       "      <td>92</td>\n",
       "      <td>183</td>\n",
       "      <td>101</td>\n",
       "      <td>130</td>\n",
       "      <td>77</td>\n",
       "      <td>112</td>\n",
       "      <td>0.081504</td>\n",
       "    </tr>\n",
       "    <tr>\n",
       "      <th>4156</th>\n",
       "      <td>X51757_at</td>\n",
       "      <td>20</td>\n",
       "      <td>20</td>\n",
       "      <td>48</td>\n",
       "      <td>20</td>\n",
       "      <td>122</td>\n",
       "      <td>20</td>\n",
       "      <td>20</td>\n",
       "      <td>20</td>\n",
       "      <td>60</td>\n",
       "      <td>...</td>\n",
       "      <td>35</td>\n",
       "      <td>45</td>\n",
       "      <td>20</td>\n",
       "      <td>20</td>\n",
       "      <td>20</td>\n",
       "      <td>444</td>\n",
       "      <td>111</td>\n",
       "      <td>20</td>\n",
       "      <td>48</td>\n",
       "      <td>0.065644</td>\n",
       "    </tr>\n",
       "  </tbody>\n",
       "</table>\n",
       "<p>6413 rows × 25 columns</p>\n",
       "</div>\n",
       "      <button class=\"colab-df-convert\" onclick=\"convertToInteractive('df-0d45d982-c27e-4a2f-9d8f-ff6c4fed81e4')\"\n",
       "              title=\"Convert this dataframe to an interactive table.\"\n",
       "              style=\"display:none;\">\n",
       "        \n",
       "  <svg xmlns=\"http://www.w3.org/2000/svg\" height=\"24px\"viewBox=\"0 0 24 24\"\n",
       "       width=\"24px\">\n",
       "    <path d=\"M0 0h24v24H0V0z\" fill=\"none\"/>\n",
       "    <path d=\"M18.56 5.44l.94 2.06.94-2.06 2.06-.94-2.06-.94-.94-2.06-.94 2.06-2.06.94zm-11 1L8.5 8.5l.94-2.06 2.06-.94-2.06-.94L8.5 2.5l-.94 2.06-2.06.94zm10 10l.94 2.06.94-2.06 2.06-.94-2.06-.94-.94-2.06-.94 2.06-2.06.94z\"/><path d=\"M17.41 7.96l-1.37-1.37c-.4-.4-.92-.59-1.43-.59-.52 0-1.04.2-1.43.59L10.3 9.45l-7.72 7.72c-.78.78-.78 2.05 0 2.83L4 21.41c.39.39.9.59 1.41.59.51 0 1.02-.2 1.41-.59l7.78-7.78 2.81-2.81c.8-.78.8-2.07 0-2.86zM5.41 20L4 18.59l7.72-7.72 1.47 1.35L5.41 20z\"/>\n",
       "  </svg>\n",
       "      </button>\n",
       "      \n",
       "  <style>\n",
       "    .colab-df-container {\n",
       "      display:flex;\n",
       "      flex-wrap:wrap;\n",
       "      gap: 12px;\n",
       "    }\n",
       "\n",
       "    .colab-df-convert {\n",
       "      background-color: #E8F0FE;\n",
       "      border: none;\n",
       "      border-radius: 50%;\n",
       "      cursor: pointer;\n",
       "      display: none;\n",
       "      fill: #1967D2;\n",
       "      height: 32px;\n",
       "      padding: 0 0 0 0;\n",
       "      width: 32px;\n",
       "    }\n",
       "\n",
       "    .colab-df-convert:hover {\n",
       "      background-color: #E2EBFA;\n",
       "      box-shadow: 0px 1px 2px rgba(60, 64, 67, 0.3), 0px 1px 3px 1px rgba(60, 64, 67, 0.15);\n",
       "      fill: #174EA6;\n",
       "    }\n",
       "\n",
       "    [theme=dark] .colab-df-convert {\n",
       "      background-color: #3B4455;\n",
       "      fill: #D2E3FC;\n",
       "    }\n",
       "\n",
       "    [theme=dark] .colab-df-convert:hover {\n",
       "      background-color: #434B5C;\n",
       "      box-shadow: 0px 1px 3px 1px rgba(0, 0, 0, 0.15);\n",
       "      filter: drop-shadow(0px 1px 2px rgba(0, 0, 0, 0.3));\n",
       "      fill: #FFFFFF;\n",
       "    }\n",
       "  </style>\n",
       "\n",
       "      <script>\n",
       "        const buttonEl =\n",
       "          document.querySelector('#df-0d45d982-c27e-4a2f-9d8f-ff6c4fed81e4 button.colab-df-convert');\n",
       "        buttonEl.style.display =\n",
       "          google.colab.kernel.accessAllowed ? 'block' : 'none';\n",
       "\n",
       "        async function convertToInteractive(key) {\n",
       "          const element = document.querySelector('#df-0d45d982-c27e-4a2f-9d8f-ff6c4fed81e4');\n",
       "          const dataTable =\n",
       "            await google.colab.kernel.invokeFunction('convertToInteractive',\n",
       "                                                     [key], {});\n",
       "          if (!dataTable) return;\n",
       "\n",
       "          const docLinkHtml = 'Like what you see? Visit the ' +\n",
       "            '<a target=\"_blank\" href=https://colab.research.google.com/notebooks/data_table.ipynb>data table notebook</a>'\n",
       "            + ' to learn more about interactive tables.';\n",
       "          element.innerHTML = '';\n",
       "          dataTable['output_type'] = 'display_data';\n",
       "          await google.colab.output.renderOutput(dataTable, element);\n",
       "          const docLink = document.createElement('div');\n",
       "          docLink.innerHTML = docLinkHtml;\n",
       "          element.appendChild(docLink);\n",
       "        }\n",
       "      </script>\n",
       "    </div>\n",
       "  </div>\n",
       "  "
      ],
      "text/plain": [
       "                 SNO  101  102  103  104  105  106  107  108  109  ...  115  \\\n",
       "2506       U00921_at   20   25   20   20   20   20   20   20   42  ...   20   \n",
       "6528     U59877_s_at  176   20   20   20   20   20   20   20   96  ...   20   \n",
       "6663   AF000424_s_at   20   20   20   20   20   20   20   20   20  ...   20   \n",
       "5503     D13631_s_at   44  165   20   20   66   20   37   22   72  ...   20   \n",
       "3688       U79242_at   53   20   74   20   42   27   20   20   29  ...   21   \n",
       "...              ...  ...  ...  ...  ...  ...  ...  ...  ...  ...  ...  ...   \n",
       "6861  X54489_rna1_at   20   20   20   20   20   20   20   20  232  ...   20   \n",
       "1241       L13042_at   39   49   20   47   50   21   30   42   42  ...   36   \n",
       "1658  M14159_cds2_at   60   55   69   30   20   20   20   74   20  ...   20   \n",
       "3355       U56816_at  211   85  167   99  124   20   45  115  122  ...   20   \n",
       "4156       X51757_at   20   20   48   20  122   20   20   20   60  ...   35   \n",
       "\n",
       "      116  117  118  119  120  121  122  123     T value  \n",
       "2506   20   20   20   20   20   20   20   20  222.388504  \n",
       "6528   20  240  210   20  180  278   20  185  166.874021  \n",
       "6663   20   20   20   20   20   20   20   20  162.284150  \n",
       "5503   20  231   43   20   20   59   20   56  148.242194  \n",
       "3688   20   20   20   20   20   70   30   20  139.143388  \n",
       "...   ...  ...  ...  ...  ...  ...  ...  ...         ...  \n",
       "6861   20   20   20   20   20   20   20   20    0.102060  \n",
       "1241   30   39   52   39   55   44   53   26    0.099092  \n",
       "1658   20   20  126   51   20  139   20   40    0.092244  \n",
       "3355   61  155   92  183  101  130   77  112    0.081504  \n",
       "4156   45   20   20   20  444  111   20   48    0.065644  \n",
       "\n",
       "[6413 rows x 25 columns]"
      ]
     },
     "execution_count": 469,
     "metadata": {},
     "output_type": "execute_result"
    }
   ],
   "source": [
    "test_data"
   ]
  },
  {
   "cell_type": "markdown",
   "metadata": {
    "id": "-0wYTtK1wg0m"
   },
   "source": [
    "For N=2,4,6,8,10,12,15,20,25,30 combine top genes for each class into one file (removing duplicates, if any) and call the resulting file pp5i_train.topN.gr.csv"
   ]
  },
  {
   "cell_type": "code",
   "execution_count": 470,
   "metadata": {
    "executionInfo": {
     "elapsed": 411,
     "status": "ok",
     "timestamp": 1659769229653,
     "user": {
      "displayName": "JY Chen",
      "userId": "02001438925355313864"
     },
     "user_tz": 240
    },
    "id": "8exJW3gawgmx"
   },
   "outputs": [],
   "source": [
    "from numpy import savetxt\n",
    "from numpy import genfromtxt\n",
    "TopN = [2,4,6,8,10,12,15,20,25,30]\n",
    "\n",
    "def find(data):\n",
    "    oreder = np.lexsort(data.T)\n",
    "    data = data[oreder]\n",
    "    diff = np.diff(data, axis=0)\n",
    "    ui = np.ones(len(data), 'bool')\n",
    "    ui[1:] = (diff != 0).any(axis=1) \n",
    "    return data[ui]\n",
    "\n",
    "for num in TopN:\n",
    "    train_x = train_data.drop('SNO', axis = 1)\n",
    "    train_x = train_x.drop('T value', axis = 1)\n",
    "    train_x = train_x.to_numpy()\n",
    "    train_x = train_x[:num].T #transpose each file to \"genes-in-columns\" format\n",
    "    train_x_num = np.c_[train_x, train_class] #Join two matrices by rows\n",
    "    train_x_num = find(train_x_num)\n",
    "    \n",
    "    filename = \"pp5i_train.top\"+str(num)+\".gr.csv\"\n",
    "    savetxt(filename, train_x_num, delimiter = ',')"
   ]
  },
  {
   "cell_type": "markdown",
   "metadata": {
    "id": "oboacf6XzSgZ"
   },
   "source": [
    "# Find the best classifier/best gene set combination"
   ]
  },
  {
   "cell_type": "code",
   "execution_count": 471,
   "metadata": {
    "executionInfo": {
     "elapsed": 6,
     "status": "ok",
     "timestamp": 1659769229654,
     "user": {
      "displayName": "JY Chen",
      "userId": "02001438925355313864"
     },
     "user_tz": 240
    },
    "id": "H_kM5TXcxdTe"
   },
   "outputs": [],
   "source": [
    "from sklearn.naive_bayes import GaussianNB\n",
    "from sklearn.tree import DecisionTreeClassifier\n",
    "import sklearn.neighbors as skneighbors\n",
    "from sklearn.ensemble import ExtraTreesClassifier\n",
    "from sklearn.ensemble import RandomForestClassifier\n",
    "from sklearn.linear_model import LogisticRegression\n",
    "from sklearn.neural_network import MLPClassifier\n",
    "from sklearn.model_selection import cross_val_score"
   ]
  },
  {
   "cell_type": "markdown",
   "metadata": {
    "id": "lO4CjxP85J5R"
   },
   "source": [
    "# 5 models"
   ]
  },
  {
   "cell_type": "markdown",
   "metadata": {
    "id": "3_hS8xsC4ZFe"
   },
   "source": [
    "KNN"
   ]
  },
  {
   "cell_type": "code",
   "execution_count": 472,
   "metadata": {
    "executionInfo": {
     "elapsed": 362,
     "status": "ok",
     "timestamp": 1659769230010,
     "user": {
      "displayName": "JY Chen",
      "userId": "02001438925355313864"
     },
     "user_tz": 240
    },
    "id": "cR5EjphZrbux"
   },
   "outputs": [],
   "source": [
    "import matplotlib.pyplot as plt\n",
    "arr = np.zeros((10,6)) #storage results\n",
    "row =0\n",
    "arr_error = np.zeros((10,6))\n",
    "row_error =0\n",
    "\n",
    "'''\n",
    "For KNN classifier, using default settings, measure classifier \n",
    "accuracy on the training set using previously generated files \n",
    "with top N=2, 4, 6, 8, 10, 12, 15, 20, 25, 30\n",
    "\n",
    "'''\n",
    "\n",
    "for i in TopN:\n",
    "  i_row = list()\n",
    "  i_row.append(i)\n",
    "\n",
    "  col =0\n",
    "  arr[row][col]=i\n",
    "\n",
    "  filename=\"pp5i_train.top\"+str(i)+\".gr.csv\"\n",
    "  data_arr = np.genfromtxt(filename,delimiter=',') \n",
    "  train_x = data_arr[:,:-1]\n",
    "  train_y = data_arr[:,-1]\n",
    "\n",
    "  #use K=3 to train \n",
    "  knn_model = skneighbors.KNeighborsClassifier(n_neighbors=3)\n",
    "  knn_model.fit(train_x, train_y)\n",
    "  scores = cross_val_score(knn_model, train_x, train_y,cv=4)\n",
    "  i_row.append(scores.mean())\n",
    "  col+=1\n",
    "  arr[row][col] = 1-scores.mean() #calculate error rate of Cross-validation\n",
    "  row+=1\n",
    "\n",
    "#calculate error rate\n",
    "  i_row_error = list()\n",
    "  i_row_error.append(i)\n",
    "  col_error =0\n",
    "  arr_error[row_error][col_error]=i\n",
    "  score = knn_model.score(train_x, train_y)\n",
    "  i_row_error.append(score.mean())\n",
    "  col_error +=1\n",
    "  arr_error[row_error][col_error] = score.mean()\n",
    "  row_error+=1"
   ]
  },
  {
   "cell_type": "code",
   "execution_count": 473,
   "metadata": {
    "colab": {
     "base_uri": "https://localhost:8080/"
    },
    "executionInfo": {
     "elapsed": 19,
     "status": "ok",
     "timestamp": 1659769230011,
     "user": {
      "displayName": "JY Chen",
      "userId": "02001438925355313864"
     },
     "user_tz": 240
    },
    "id": "VqcqYYvXbeM8",
    "outputId": "d8efffbb-db91-422b-ea15-d007bd3c1c31"
   },
   "outputs": [
    {
     "data": {
      "text/plain": [
       "array([0., 0., 0., 0., 0., 0., 0., 0., 0., 0., 1., 1., 1., 1., 1., 1., 2.,\n",
       "       2., 2., 2., 2., 2., 2., 2., 2., 2., 2., 2., 2., 2., 2., 2., 2., 2.,\n",
       "       2., 2., 2., 2., 2., 2., 2., 2., 2., 2., 2., 2., 2., 2., 2., 2., 2.,\n",
       "       2., 2., 2., 2., 3., 3., 3., 3., 3., 3., 3., 4., 4., 4., 4., 4., 4.,\n",
       "       4.])"
      ]
     },
     "execution_count": 473,
     "metadata": {},
     "output_type": "execute_result"
    }
   ],
   "source": [
    "train_y"
   ]
  },
  {
   "cell_type": "markdown",
   "metadata": {
    "id": "_6ow2PxBFYqc"
   },
   "source": [
    "Naïve Bayes"
   ]
  },
  {
   "cell_type": "code",
   "execution_count": 474,
   "metadata": {
    "executionInfo": {
     "elapsed": 168,
     "status": "ok",
     "timestamp": 1659769230166,
     "user": {
      "displayName": "JY Chen",
      "userId": "02001438925355313864"
     },
     "user_tz": 240
    },
    "id": "6ohsFNFL5I76"
   },
   "outputs": [],
   "source": [
    "row =0\n",
    "col = 2\n",
    "row_error =0\n",
    "col_error = 2\n",
    "'''\n",
    "For GaussianNB classifier, using default settings, measure classifier \n",
    "accuracy on the training set using previously generated files \n",
    "with top N=2, 4, 6, 8, 10, 12, 15, 20, 25, 30\n",
    "\n",
    "'''\n",
    "for i in TopN:         \n",
    "\n",
    "  filename=\"pp5i_train.top\"+str(i)+\".gr.csv\"\n",
    "  data_arr = np.genfromtxt(filename,delimiter=',') \n",
    "  train_x = data_arr[:,:-1]\n",
    "  train_y = data_arr[:,-1]\n",
    "\n",
    "  GaussianNB_model = GaussianNB()\n",
    "  GaussianNB_model.fit(train_x, train_y)\n",
    "  scores = cross_val_score(GaussianNB_model, train_x, train_y,cv=4)\n",
    "  i_row.append(scores.mean())\n",
    "  arr[row][col] = 1-scores.mean() #calculate error rate\n",
    "  row+=1\n",
    "\n",
    "#calculate error rate\n",
    "  i_row_error = list()\n",
    "  i_row_error.append(i)\n",
    "  score = GaussianNB_model.score(train_x, train_y)\n",
    "  i_row_error.append(score.mean())\n",
    "  arr_error[row_error][col_error] = score.mean()\n",
    "  row_error+=1"
   ]
  },
  {
   "cell_type": "code",
   "execution_count": 475,
   "metadata": {
    "colab": {
     "base_uri": "https://localhost:8080/"
    },
    "executionInfo": {
     "elapsed": 7,
     "status": "ok",
     "timestamp": 1659769230167,
     "user": {
      "displayName": "JY Chen",
      "userId": "02001438925355313864"
     },
     "user_tz": 240
    },
    "id": "RVt60YSmCvpN",
    "outputId": "7a359e62-8335-4214-c876-c8e945d35d7f"
   },
   "outputs": [
    {
     "data": {
      "text/plain": [
       "array([[ 2.        ,  0.67741935,  0.5483871 ,  0.        ,  0.        ,\n",
       "         0.        ],\n",
       "       [ 4.        ,  0.75675676,  0.40540541,  0.        ,  0.        ,\n",
       "         0.        ],\n",
       "       [ 6.        ,  0.71111111,  0.71111111,  0.        ,  0.        ,\n",
       "         0.        ],\n",
       "       [ 8.        ,  0.86764706,  0.54411765,  0.        ,  0.        ,\n",
       "         0.        ],\n",
       "       [10.        ,  0.88405797,  0.60869565,  0.        ,  0.        ,\n",
       "         0.        ],\n",
       "       [12.        ,  0.94202899,  0.60869565,  0.        ,  0.        ,\n",
       "         0.        ],\n",
       "       [15.        ,  0.95652174,  0.85507246,  0.        ,  0.        ,\n",
       "         0.        ],\n",
       "       [20.        ,  0.97101449,  0.82608696,  0.        ,  0.        ,\n",
       "         0.        ],\n",
       "       [25.        ,  1.        ,  0.91304348,  0.        ,  0.        ,\n",
       "         0.        ],\n",
       "       [30.        ,  0.98550725,  0.92753623,  0.        ,  0.        ,\n",
       "         0.        ]])"
      ]
     },
     "execution_count": 475,
     "metadata": {},
     "output_type": "execute_result"
    }
   ],
   "source": [
    "arr_error"
   ]
  },
  {
   "cell_type": "markdown",
   "metadata": {
    "id": "38IX4QLQBGpD"
   },
   "source": [
    "DecisionTreeClassifier"
   ]
  },
  {
   "cell_type": "code",
   "execution_count": 476,
   "metadata": {
    "executionInfo": {
     "elapsed": 300,
     "status": "ok",
     "timestamp": 1659769230462,
     "user": {
      "displayName": "JY Chen",
      "userId": "02001438925355313864"
     },
     "user_tz": 240
    },
    "id": "FTNrEZT6Amtl"
   },
   "outputs": [],
   "source": [
    "row =0\n",
    "col = 3\n",
    "row_error =0\n",
    "col_error = 3\n",
    "'''\n",
    "For DecisionTreeClassifier classifier, using default settings, measure classifier \n",
    "accuracy on the training set using previously generated files \n",
    "with top N=2, 4, 6, 8, 10, 12, 15, 20, 25, 30\n",
    "\n",
    "'''\n",
    "for i in TopN:\n",
    "\n",
    "  filename=\"pp5i_train.top\"+str(i)+\".gr.csv\"\n",
    "  data_arr = np.genfromtxt(filename,delimiter=',') \n",
    "  train_x = data_arr[:,:-1]\n",
    "  train_y = data_arr[:,-1]\n",
    "\n",
    "  DecisionTree_model = DecisionTreeClassifier(random_state=30, max_depth=3)\n",
    "  DecisionTree_model.fit(train_x, train_y)\n",
    "  scores = cross_val_score(DecisionTree_model, train_x, train_y,cv=4)\n",
    "  i_row.append(scores.mean())\n",
    "  arr[row][col] = 1-scores.mean() #calculate error rate\n",
    "  row+=1\n",
    "\n",
    "  #calculate error rate\n",
    "  i_row_error = list()\n",
    "  i_row_error.append(i)\n",
    "  score = DecisionTree_model.score(train_x, train_y)\n",
    "  i_row_error.append(score.mean())\n",
    "  arr_error[row_error][col_error] = score.mean()\n",
    "  row_error+=1"
   ]
  },
  {
   "cell_type": "code",
   "execution_count": 477,
   "metadata": {
    "colab": {
     "base_uri": "https://localhost:8080/"
    },
    "executionInfo": {
     "elapsed": 4,
     "status": "ok",
     "timestamp": 1659769230462,
     "user": {
      "displayName": "JY Chen",
      "userId": "02001438925355313864"
     },
     "user_tz": 240
    },
    "id": "6RexP9uXb3JD",
    "outputId": "6a387870-9ed7-434b-a92e-3da5ea36910d"
   },
   "outputs": [
    {
     "data": {
      "text/plain": [
       "array([[ 2.        ,  0.67741935,  0.5483871 ,  0.64516129,  0.        ,\n",
       "         0.        ],\n",
       "       [ 4.        ,  0.75675676,  0.40540541,  0.64864865,  0.        ,\n",
       "         0.        ],\n",
       "       [ 6.        ,  0.71111111,  0.71111111,  0.73333333,  0.        ,\n",
       "         0.        ],\n",
       "       [ 8.        ,  0.86764706,  0.54411765,  0.88235294,  0.        ,\n",
       "         0.        ],\n",
       "       [10.        ,  0.88405797,  0.60869565,  0.88405797,  0.        ,\n",
       "         0.        ],\n",
       "       [12.        ,  0.94202899,  0.60869565,  0.88405797,  0.        ,\n",
       "         0.        ],\n",
       "       [15.        ,  0.95652174,  0.85507246,  1.        ,  0.        ,\n",
       "         0.        ],\n",
       "       [20.        ,  0.97101449,  0.82608696,  1.        ,  0.        ,\n",
       "         0.        ],\n",
       "       [25.        ,  1.        ,  0.91304348,  1.        ,  0.        ,\n",
       "         0.        ],\n",
       "       [30.        ,  0.98550725,  0.92753623,  1.        ,  0.        ,\n",
       "         0.        ]])"
      ]
     },
     "execution_count": 477,
     "metadata": {},
     "output_type": "execute_result"
    }
   ],
   "source": [
    "arr_error"
   ]
  },
  {
   "cell_type": "markdown",
   "metadata": {
    "id": "HkxwvvVgCYQB"
   },
   "source": [
    "A neural network"
   ]
  },
  {
   "cell_type": "code",
   "execution_count": 478,
   "metadata": {
    "executionInfo": {
     "elapsed": 8021,
     "status": "ok",
     "timestamp": 1659769238480,
     "user": {
      "displayName": "JY Chen",
      "userId": "02001438925355313864"
     },
     "user_tz": 240
    },
    "id": "CDZlloqcAvip"
   },
   "outputs": [],
   "source": [
    "row =0\n",
    "col = 4\n",
    "row_error =0\n",
    "col_error = 4\n",
    "'''\n",
    "For MLP classifier, using default settings, measure classifier \n",
    "accuracy on the training set using previously generated files \n",
    "with top N=2, 4, 6, 8, 10, 12, 15, 20, 25, 30\n",
    "\n",
    "'''\n",
    "for i in TopN:\n",
    "\n",
    "  filename=\"pp5i_train.top\"+str(i)+\".gr.csv\"\n",
    "  data_arr = np.genfromtxt(filename,delimiter=',') \n",
    "  train_x = data_arr[:,:-1]\n",
    "  train_y = data_arr[:,-1]\n",
    "\n",
    "  MLP_model = MLPClassifier(activation='relu',hidden_layer_sizes=(32,),random_state=1,solver='lbfgs',learning_rate='constant',learning_rate_init=0.0001,max_iter=1000)\n",
    "  MLP_model.fit(train_x, train_y)\n",
    "  scores = cross_val_score(MLP_model, train_x, train_y,cv=5)\n",
    "  i_row.append(scores.mean())\n",
    "  arr[row][col] = 1-scores.mean() #calculate error rate\n",
    "  row+=1\n",
    "\n",
    "  #calculate error rate\n",
    "  i_row_error = list()\n",
    "  i_row_error.append(i)\n",
    "  score = MLP_model.score(train_x, train_y)\n",
    "  i_row_error.append(score.mean())\n",
    "  arr_error[row_error][col_error] = score.mean()\n",
    "  row_error+=1"
   ]
  },
  {
   "cell_type": "code",
   "execution_count": 479,
   "metadata": {
    "colab": {
     "base_uri": "https://localhost:8080/"
    },
    "executionInfo": {
     "elapsed": 7,
     "status": "ok",
     "timestamp": 1659769238481,
     "user": {
      "displayName": "JY Chen",
      "userId": "02001438925355313864"
     },
     "user_tz": 240
    },
    "id": "en9L-UfEb3oo",
    "outputId": "08b4ff82-1210-4cb9-ab08-744a273e55f4"
   },
   "outputs": [
    {
     "data": {
      "text/plain": [
       "array([[ 2.        ,  0.67410714,  0.54910714,  0.57589286,  0.74285714,\n",
       "         0.        ],\n",
       "       [ 4.        ,  0.64444444,  0.61944444,  0.61944444,  0.48214286,\n",
       "         0.        ],\n",
       "       [ 6.        ,  0.46212121,  0.62689394,  0.44507576,  0.73333333,\n",
       "         0.        ],\n",
       "       [ 8.        ,  0.27941176,  0.51470588,  0.41176471,  0.24725275,\n",
       "         0.        ],\n",
       "       [10.        ,  0.18872549,  0.56617647,  0.14542484,  0.49010989,\n",
       "         0.        ],\n",
       "       [12.        ,  0.15931373,  0.49346405,  0.34885621,  0.29230769,\n",
       "         0.        ],\n",
       "       [15.        ,  0.13071895,  0.26388889,  0.20506536,  0.29120879,\n",
       "         0.        ],\n",
       "       [20.        ,  0.15767974,  0.37990196,  0.20588235,  0.13186813,\n",
       "         0.        ],\n",
       "       [25.        ,  0.04330065,  0.29330065,  0.11683007,  0.11648352,\n",
       "         0.        ],\n",
       "       [30.        ,  0.05718954,  0.31944444,  0.11601307,  0.32967033,\n",
       "         0.        ]])"
      ]
     },
     "execution_count": 479,
     "metadata": {},
     "output_type": "execute_result"
    }
   ],
   "source": [
    "arr"
   ]
  },
  {
   "cell_type": "markdown",
   "metadata": {
    "id": "F4HTN-iXCtVs"
   },
   "source": [
    "logic regression"
   ]
  },
  {
   "cell_type": "code",
   "execution_count": 480,
   "metadata": {
    "executionInfo": {
     "elapsed": 1497,
     "status": "ok",
     "timestamp": 1659769239973,
     "user": {
      "displayName": "JY Chen",
      "userId": "02001438925355313864"
     },
     "user_tz": 240
    },
    "id": "srtGyyFcAvWV"
   },
   "outputs": [],
   "source": [
    "row =0\n",
    "col = 5\n",
    "row_error =0\n",
    "col_error = 5\n",
    "'''\n",
    "For logic regression classifier, using default settings, measure classifier \n",
    "accuracy on the training set using previously generated files \n",
    "with top N=2, 4, 6, 8, 10, 12, 15, 20, 25, 30\n",
    "\n",
    "'''\n",
    "for i in TopN:\n",
    "\n",
    "  filename=\"pp5i_train.top\"+str(i)+\".gr.csv\"\n",
    "  data_arr = np.genfromtxt(filename,delimiter=',') \n",
    "  train_x = data_arr[:,:-1]\n",
    "  train_y = data_arr[:,-1]\n",
    "\n",
    "  LogisticRegression_model = LogisticRegression(random_state = 21)\n",
    "  LogisticRegression_model.fit(train_x, train_y)\n",
    "  scores = cross_val_score(LogisticRegression_model, train_x, train_y,cv=4)\n",
    "  i_row.append(scores.mean())\n",
    "  arr[row][col] = 1-scores.mean() #calculate error rate\n",
    "  row+=1\n",
    "\n",
    "  #calculate error rate\n",
    "  i_row_error = list()\n",
    "  i_row_error.append(i)\n",
    "  score = LogisticRegression_model.score(train_x, train_y)\n",
    "  i_row_error.append(score.mean())\n",
    "  arr_error[row_error][col_error] = score.mean()\n",
    "  row_error+=1"
   ]
  },
  {
   "cell_type": "code",
   "execution_count": 481,
   "metadata": {
    "colab": {
     "base_uri": "https://localhost:8080/"
    },
    "executionInfo": {
     "elapsed": 12,
     "status": "ok",
     "timestamp": 1659769239973,
     "user": {
      "displayName": "JY Chen",
      "userId": "02001438925355313864"
     },
     "user_tz": 240
    },
    "id": "Sjzt-64hApab",
    "outputId": "fafaf09c-d1e8-4209-b8b5-4d6abb9aa5ec"
   },
   "outputs": [
    {
     "data": {
      "text/plain": [
       "array([[ 2.        ,  0.67741935,  0.5483871 ,  0.64516129,  0.61290323,\n",
       "         0.4516129 ],\n",
       "       [ 4.        ,  0.75675676,  0.40540541,  0.64864865,  0.94594595,\n",
       "         0.43243243],\n",
       "       [ 6.        ,  0.71111111,  0.71111111,  0.73333333,  0.93333333,\n",
       "         0.68888889],\n",
       "       [ 8.        ,  0.86764706,  0.54411765,  0.88235294,  0.98529412,\n",
       "         0.95588235],\n",
       "       [10.        ,  0.88405797,  0.60869565,  0.88405797,  1.        ,\n",
       "         0.95652174],\n",
       "       [12.        ,  0.94202899,  0.60869565,  0.88405797,  1.        ,\n",
       "         0.94202899],\n",
       "       [15.        ,  0.95652174,  0.85507246,  1.        ,  0.62318841,\n",
       "         1.        ],\n",
       "       [20.        ,  0.97101449,  0.82608696,  1.        ,  1.        ,\n",
       "         1.        ],\n",
       "       [25.        ,  1.        ,  0.91304348,  1.        ,  1.        ,\n",
       "         1.        ],\n",
       "       [30.        ,  0.98550725,  0.92753623,  1.        ,  1.        ,\n",
       "         1.        ]])"
      ]
     },
     "execution_count": 481,
     "metadata": {},
     "output_type": "execute_result"
    }
   ],
   "source": [
    "arr_error"
   ]
  },
  {
   "cell_type": "markdown",
   "metadata": {
    "id": "Dsp0g4EM4_4R"
   },
   "source": [
    "# Find best train file"
   ]
  },
  {
   "cell_type": "code",
   "execution_count": 482,
   "metadata": {
    "colab": {
     "base_uri": "https://localhost:8080/"
    },
    "executionInfo": {
     "elapsed": 11,
     "status": "ok",
     "timestamp": 1659769239974,
     "user": {
      "displayName": "JY Chen",
      "userId": "02001438925355313864"
     },
     "user_tz": 240
    },
    "id": "Em7giPQRyMzo",
    "outputId": "3d07bd8b-401b-4f79-b379-93cf18877aca"
   },
   "outputs": [
    {
     "name": "stdout",
     "output_type": "stream",
     "text": [
      "Top N : 25 \n",
      " Best classifier: KNeighborsClassifier\n"
     ]
    }
   ],
   "source": [
    "# find best train file\n",
    "#classifiers = [\"KNeighborsClassifier\",\"GaussianNB\",\"DecisionTreeClassifier\",\"MLPClassifier\",\"LogisticRegression\"]\n",
    "\n",
    "num_mean_list = list() #find the best top n gene file\n",
    "for i in arr[:,1:]:\n",
    "    num_mean_list.append(np.mean(i))\n",
    "    \n",
    "model_mean_list = list() #find the best model\n",
    "for i in range(arr.shape[1]-1):\n",
    "    model_mean_list.append(np.mean(arr[:,i+1]))\n",
    "    \n",
    "best_num = min(num_mean_list)\n",
    "best_num_index = [i for i, j in enumerate(num_mean_list) if j == best_num]  #find the index of best top N\n",
    "#max_num_value = num_mean_list[max_num_index[0]]\n",
    "best_top_N = TopN[best_num_index[0]]\n",
    "\n",
    "best_classifier = min(model_mean_list)\n",
    "best_classifier_index = [i for i, j in enumerate(model_mean_list) if j == best_classifier]#find the index of best model\n",
    "best_classifier_value = classifiers[best_classifier_index[0]]\n",
    "print('Top N :', best_top_N, \"\\n Best classifier:\", best_classifier_value)"
   ]
  },
  {
   "cell_type": "code",
   "execution_count": 483,
   "metadata": {
    "colab": {
     "base_uri": "https://localhost:8080/"
    },
    "executionInfo": {
     "elapsed": 8,
     "status": "ok",
     "timestamp": 1659769239974,
     "user": {
      "displayName": "JY Chen",
      "userId": "02001438925355313864"
     },
     "user_tz": 240
    },
    "id": "Oz9kendV4Qyq",
    "outputId": "9843c429-3933-4415-ab09-bd73a19c24d3"
   },
   "outputs": [
    {
     "data": {
      "text/plain": [
       "25"
      ]
     },
     "execution_count": 483,
     "metadata": {},
     "output_type": "execute_result"
    }
   ],
   "source": [
    "best_top_N"
   ]
  },
  {
   "cell_type": "code",
   "execution_count": 484,
   "metadata": {
    "colab": {
     "base_uri": "https://localhost:8080/"
    },
    "executionInfo": {
     "elapsed": 7,
     "status": "ok",
     "timestamp": 1659769239975,
     "user": {
      "displayName": "JY Chen",
      "userId": "02001438925355313864"
     },
     "user_tz": 240
    },
    "id": "3gwEM8ThVzEP",
    "outputId": "3637751c-4890-49d0-9d24-1d900dcd6e0f"
   },
   "outputs": [
    {
     "data": {
      "text/plain": [
       "[0.2797012668703845,\n",
       " 0.46263278796367036,\n",
       " 0.3190249660470249,\n",
       " 0.3857234432234432,\n",
       " 0.3107526419658772]"
      ]
     },
     "execution_count": 484,
     "metadata": {},
     "output_type": "execute_result"
    }
   ],
   "source": [
    "model_mean_list"
   ]
  },
  {
   "cell_type": "markdown",
   "metadata": {
    "id": "USuSCqNXDLWw"
   },
   "source": [
    "write bestN train file and bestN test file\n"
   ]
  },
  {
   "cell_type": "code",
   "execution_count": 485,
   "metadata": {
    "executionInfo": {
     "elapsed": 181,
     "status": "ok",
     "timestamp": 1659769240151,
     "user": {
      "displayName": "JY Chen",
      "userId": "02001438925355313864"
     },
     "user_tz": 240
    },
    "id": "y6ZxdGpjyNbc"
   },
   "outputs": [],
   "source": [
    "#write the bestN train file\n",
    "num = best_top_N\n",
    "filename=\"pp5i_train.top\"+str(num)+\".gr.csv\" #read the best top N from file\n",
    "data_arr = np.genfromtxt(filename,delimiter=',') \n",
    "best_genes_set = data_arr[:,:-1]\n",
    "best_genes_class = data_arr[:,-1]\n",
    "\n",
    "filename = \"pp5i_train.bestN.csv\" #write best n train file\n",
    "savetxt(filename, best_genes_set, delimiter=',')\n",
    "\n",
    "#write the bestN test file\n",
    "x_test = test_data.drop('SNO', axis= 1 ) #drop the columm of SNO\n",
    "x_test = x_test.drop('T value', axis = 1 ) #drop the columm of T value\n",
    "x_test = x_test.to_numpy()\n",
    "x_test = x_test[:num].T #transpose each file to \"genes-in-columns\" format\n",
    "filename=\"pp5i_test.bestN.csv\" #write best n test file\n",
    "savetxt(filename, x_test, delimiter=',')"
   ]
  },
  {
   "cell_type": "markdown",
   "metadata": {
    "id": "lRE8SvaNsFVR"
   },
   "source": [
    "writing error figure"
   ]
  },
  {
   "cell_type": "code",
   "execution_count": 486,
   "metadata": {
    "colab": {
     "base_uri": "https://localhost:8080/",
     "height": 404
    },
    "executionInfo": {
     "elapsed": 238,
     "status": "ok",
     "timestamp": 1659769240388,
     "user": {
      "displayName": "JY Chen",
      "userId": "02001438925355313864"
     },
     "user_tz": 240
    },
    "id": "Rm6uZAKY1i3s",
    "outputId": "50d1c75d-289f-4ff0-8eb0-e3bf5de22a8e"
   },
   "outputs": [
    {
     "data": {
      "image/png": "[encoded data removed]",
      "text/plain": [
       "<Figure size 720x432 with 1 Axes>"
      ]
     },
     "metadata": {
      "needs_background": "light"
     },
     "output_type": "display_data"
    }
   ],
   "source": [
    "error_arr = arr[:,1:]\n",
    "\n",
    "cdict = {0: 'indigo',1: 'magenta', 2: 'blue', 3: 'green', 4: 'red'}\n",
    "plt.figure(figsize = (10,6))\n",
    "\n",
    "plt.plot(error_arr[:,0],c = 'tab:red', label = 'KNN')\n",
    "plt.plot(error_arr[:,1],c = 'tab:green', label = 'GaussianNB')\n",
    "plt.plot(error_arr[:,2],c = 'tab:blue', label = 'DecisionTreeClassifier')\n",
    "plt.plot(error_arr[:,3],c = 'tab:pink', label = 'MLP')\n",
    "plt.plot(error_arr[:,4],c = 'tab:purple', label = 'logic regression')\n",
    "\n",
    "lg = plt.legend()\n",
    "xt = plt.xticks([0,1,2,3,4,5,6,7,8,9])\n",
    "titl = plt.title(\"Error rate of each TOP N file\")\n",
    "yl = plt.xlabel(\"TOP N Genes\")\n",
    "yl = plt.ylabel(\"Error Rate\")"
   ]
  },
  {
   "cell_type": "code",
   "execution_count": 487,
   "metadata": {
    "colab": {
     "base_uri": "https://localhost:8080/",
     "height": 404
    },
    "executionInfo": {
     "elapsed": 144,
     "status": "ok",
     "timestamp": 1659769240672,
     "user": {
      "displayName": "JY Chen",
      "userId": "02001438925355313864"
     },
     "user_tz": 240
    },
    "id": "tVFduw_FN11Y",
    "outputId": "f0725d92-9b51-41ee-874d-bfc80fd832c3"
   },
   "outputs": [
    {
     "data": {
      "image/png": "[encoded data removed]",
      "text/plain": [
       "<Figure size 720x432 with 1 Axes>"
      ]
     },
     "metadata": {
      "needs_background": "light"
     },
     "output_type": "display_data"
    }
   ],
   "source": [
    "error_rate_array = arr[:,1:]\n",
    "\n",
    "plt.figure(figsize=(10, 6))\n",
    "xlabels = ['2','4','6','8','10','12','15','20','25','30']\n",
    "\n",
    "plt.subplot()\n",
    "x = np.arange(len(xlabels))  # x-axis scale label position\n",
    "width = 0.15  \n",
    "\n",
    "plt.bar(x - 1.5*width, error_rate_array[:,0], width, label='KNN',color = 'tab:red')\n",
    "plt.bar(x - 0.5*width, error_rate_array[:,1], width, label='GaussianNB',color = 'tab:green')\n",
    "plt.bar(x + 0.5*width, error_rate_array[:,2], width, label='DecisionTreeClassifier',color = 'tab:blue')\n",
    "plt.bar(x + 1.5*width, error_rate_array[:,3], width, label='MLP',color = 'tab:pink')\n",
    "plt.bar(x + 2.5*width, error_rate_array[:,4], width, label='logic regression',color = 'tab:purple')\n",
    "plt.ylabel('Error Rate')\n",
    "plt.title('Error rate of each TOP N file')\n",
    "plt.xlabel('TOP N Genes')\n",
    "plt.xticks(x, labels=xlabels)\n",
    "plt.legend()\n",
    "plt.show()"
   ]
  },
  {
   "cell_type": "code",
   "execution_count": 488,
   "metadata": {
    "colab": {
     "base_uri": "https://localhost:8080/",
     "height": 404
    },
    "executionInfo": {
     "elapsed": 481,
     "status": "ok",
     "timestamp": 1659769241149,
     "user": {
      "displayName": "JY Chen",
      "userId": "02001438925355313864"
     },
     "user_tz": 240
    },
    "id": "PI1kQZ5maURw",
    "outputId": "b3ab77b1-1970-47da-f110-762388ee9c18"
   },
   "outputs": [
    {
     "data": {
      "image/png": "[encoded data removed]",
      "text/plain": [
       "<Figure size 720x432 with 1 Axes>"
      ]
     },
     "metadata": {
      "needs_background": "light"
     },
     "output_type": "display_data"
    }
   ],
   "source": [
    "error_rate_array = arr_error[:,1:]\n",
    "\n",
    "plt.figure(figsize=(10, 6))\n",
    "xlabels = ['2','4','6','8','10','12','15','20','25','30']\n",
    "\n",
    "plt.subplot()\n",
    "x = np.arange(len(xlabels))  # x-axis scale label position\n",
    "width = 0.15  \n",
    "\n",
    "plt.bar(x - 1.5*width, error_rate_array[:,0], width, label='KNN',color = 'tab:red')\n",
    "plt.bar(x - 0.5*width, error_rate_array[:,1], width, label='GaussianNB',color = 'tab:green')\n",
    "plt.bar(x + 0.5*width, error_rate_array[:,2], width, label='DecisionTreeClassifier',color = 'tab:blue')\n",
    "plt.bar(x + 1.5*width, error_rate_array[:,3], width, label='MLP',color = 'tab:pink')\n",
    "plt.bar(x + 2.5*width, error_rate_array[:,4], width, label='logic regression',color = 'tab:purple')\n",
    "plt.ylabel('accurate Rate')\n",
    "plt.title('accurate rate of each TOP N file')\n",
    "plt.xlabel('TOP N Genes')\n",
    "plt.xticks(x, labels=xlabels)\n",
    "plt.legend()\n",
    "plt.show()"
   ]
  },
  {
   "cell_type": "markdown",
   "metadata": {
    "id": "Qt0NKIJ3U4u-"
   },
   "source": [
    "# Step 4. Generate predictions for the test set"
   ]
  },
  {
   "cell_type": "code",
   "execution_count": 489,
   "metadata": {
    "colab": {
     "base_uri": "https://localhost:8080/"
    },
    "executionInfo": {
     "elapsed": 8,
     "status": "ok",
     "timestamp": 1659769241150,
     "user": {
      "displayName": "JY Chen",
      "userId": "02001438925355313864"
     },
     "user_tz": 240
    },
    "id": "z9Mk13-bU83K",
    "outputId": "31a11581-85c7-4360-b921-e1e0992614c8"
   },
   "outputs": [
    {
     "name": "stdout",
     "output_type": "stream",
     "text": [
      "Top N = 25 ; Best Clasifier = KNeighborsClassifier ; Cross-validation Best Accuracy 0.9566993464052287 ; accuracy score: 1.0\n"
     ]
    }
   ],
   "source": [
    "filename=\"pp5i_train.bestN.csv\"\n",
    "x_trainBestN = np.genfromtxt(filename,delimiter=',') \n",
    "y_trainBestN = best_genes_class\n",
    "\n",
    "\n",
    "if best_classifier_value=='KNeighborsClassifier':\n",
    "    BestNModel = skneighbors.KNeighborsClassifier(n_neighbors=3)\n",
    "elif best_classifier_value=='GaussianNB':\n",
    "    BestNModel = GaussianNB()\n",
    "elif best_classifier_value=='DecisionTreeClassifier':\n",
    "    BestNModel = DecisionTreeClassifier(random_state=30, max_depth=3)\n",
    "elif best_classifier_value=='MLPClassifier':\n",
    "    BestNModel = MLPClassifier(activation = 'relu', solver = 'sgd', hidden_layer_sizes= (25, 25),random_state = 1, max_iter=250)\n",
    "elif best_classifier_value=='LogisticRegression':\n",
    "    BestNModel = LogisticRegression(random_state = 21)\n",
    "  \n",
    "BestNModel.fit(x_trainBestN,y_trainBestN)\n",
    "\n",
    "scores = cross_val_score(BestNModel, x_trainBestN, y_trainBestN,cv=4)\n",
    "accuracy = np.mean(scores)\n",
    "\n",
    "score = BestNModel.score(x_trainBestN, y_trainBestN)\n",
    "\n",
    "print(\"Top N =\",num,\"; Best Clasifier =\",best_classifier_value,\"; Cross-validation Best Accuracy\",accuracy,\"; accuracy score:\", score)"
   ]
  },
  {
   "cell_type": "code",
   "execution_count": 490,
   "metadata": {
    "colab": {
     "base_uri": "https://localhost:8080/"
    },
    "executionInfo": {
     "elapsed": 6,
     "status": "ok",
     "timestamp": 1659769241150,
     "user": {
      "displayName": "JY Chen",
      "userId": "02001438925355313864"
     },
     "user_tz": 240
    },
    "id": "hqxGmG3QVjuA",
    "outputId": "d6c5be0b-a353-45c8-ee90-73bacd9dab9c"
   },
   "outputs": [
    {
     "data": {
      "text/plain": [
       "array([0.94444444, 0.94117647, 1.        , 0.94117647])"
      ]
     },
     "execution_count": 490,
     "metadata": {},
     "output_type": "execute_result"
    }
   ],
   "source": [
    "scores"
   ]
  },
  {
   "cell_type": "markdown",
   "metadata": {
    "id": "aaZRPx5ydnna"
   },
   "source": [
    "Once you found the gene set with the lowest cross-validation error, you can vary \n",
    "1-2 additional relevant parameters for each classifier to see if the accuracy will \n",
    "improve."
   ]
  },
  {
   "cell_type": "code",
   "execution_count": 491,
   "metadata": {
    "colab": {
     "base_uri": "https://localhost:8080/",
     "height": 279
    },
    "executionInfo": {
     "elapsed": 210,
     "status": "ok",
     "timestamp": 1659769241357,
     "user": {
      "displayName": "JY Chen",
      "userId": "02001438925355313864"
     },
     "user_tz": 240
    },
    "id": "k6NQvzoH9s9X",
    "outputId": "34cda4db-7296-4ae5-a05f-a8e2e155e85b"
   },
   "outputs": [
    {
     "data": {
      "image/png": "[encoded data removed]",
      "text/plain": [
       "<Figure size 432x288 with 1 Axes>"
      ]
     },
     "metadata": {
      "needs_background": "light"
     },
     "output_type": "display_data"
    }
   ],
   "source": [
    "filename=\"pp5i_train.top\"+str(num)+\".gr.csv\"\n",
    "data_arr = np.genfromtxt(filename,delimiter=',') \n",
    "train_x = data_arr[:,:-1]\n",
    "train_y = data_arr[:,-1]\n",
    "\n",
    "#get the best K \n",
    "k_range = [2,3,4] # For K-NN, test accuracy with K=2, 3 and 4\n",
    "cv_scores = []\n",
    "for n in k_range:\n",
    "  #knn_model = skneighbors.KNeighborsClassifier(n_neighbors=3)\n",
    "  knn_model = skneighbors.KNeighborsClassifier(n_neighbors=n)\n",
    "  knn_model.fit(train_x, train_y)\n",
    "  scores = cross_val_score(knn_model, train_x, train_y,cv=9)\n",
    "  cv_scores.append(scores.mean())\n",
    "plt.plot(k_range,cv_scores)\n",
    "plt.xlabel('K')\n",
    "plt.ylabel('Accuracy')\t\t#get the best K from graph\n",
    "plt.show()"
   ]
  },
  {
   "cell_type": "code",
   "execution_count": 492,
   "metadata": {
    "colab": {
     "base_uri": "https://localhost:8080/"
    },
    "executionInfo": {
     "elapsed": 9,
     "status": "ok",
     "timestamp": 1659769241358,
     "user": {
      "displayName": "JY Chen",
      "userId": "02001438925355313864"
     },
     "user_tz": 240
    },
    "id": "RTbCGokweiDl",
    "outputId": "7d07b8c0-9756-4bcb-93d9-787fdb7b33d3"
   },
   "outputs": [
    {
     "name": "stdout",
     "output_type": "stream",
     "text": [
      "The best K of KNN is  3\n"
     ]
    }
   ],
   "source": [
    "#get the best K of KNN\n",
    "cv_max_scores = max(cv_scores)\n",
    "p = cv_scores.index(cv_max_scores)\n",
    "best_k = k_range[p]\n",
    "print(\"The best K of KNN is \", best_k)"
   ]
  },
  {
   "cell_type": "code",
   "execution_count": 493,
   "metadata": {
    "colab": {
     "base_uri": "https://localhost:8080/"
    },
    "executionInfo": {
     "elapsed": 11,
     "status": "ok",
     "timestamp": 1659769241553,
     "user": {
      "displayName": "JY Chen",
      "userId": "02001438925355313864"
     },
     "user_tz": 240
    },
    "id": "DcC0qdO5X5Kf",
    "outputId": "9e28bf33-8e65-433d-863c-4f2af41866f0"
   },
   "outputs": [
    {
     "name": "stdout",
     "output_type": "stream",
     "text": [
      "predictions of test set= ['MGL' 'EPD' 'MED' 'MED' 'EPD' 'MED' 'MED' 'MED' 'EPD' 'JPA' 'JPA' 'MED'\n",
      " 'MED' 'MED' 'MED' 'MED' 'MGL' 'MED' 'RHB' 'RHB' 'RHB' 'MED' 'MED']\n"
     ]
    }
   ],
   "source": [
    "filename=\"pp5i_test.bestN.csv\"\n",
    "x_testN = np.genfromtxt(filename,delimiter=',') \n",
    "\n",
    "num_out = BestNModel.predict(x_testN)\n",
    "\n",
    "test_class = lableEncode.inverse_transform(num_out.astype(int))# decode test_class\n",
    "print(\"predictions of test set=\",test_class)"
   ]
  },
  {
   "cell_type": "markdown",
   "metadata": {
    "id": "XLF3hB0yx6HA"
   },
   "source": [
    "# adaptive boosting\n"
   ]
  },
  {
   "cell_type": "code",
   "execution_count": 494,
   "metadata": {
    "executionInfo": {
     "elapsed": 11,
     "status": "ok",
     "timestamp": 1659769241554,
     "user": {
      "displayName": "JY Chen",
      "userId": "02001438925355313864"
     },
     "user_tz": 240
    },
    "id": "jqCA8noLjFHT"
   },
   "outputs": [],
   "source": [
    "from sklearn.ensemble import AdaBoostClassifier"
   ]
  },
  {
   "cell_type": "code",
   "execution_count": 495,
   "metadata": {
    "colab": {
     "base_uri": "https://localhost:8080/"
    },
    "executionInfo": {
     "elapsed": 10,
     "status": "ok",
     "timestamp": 1659769241554,
     "user": {
      "displayName": "JY Chen",
      "userId": "02001438925355313864"
     },
     "user_tz": 240
    },
    "id": "6m6EKRQYyGZ4",
    "outputId": "35eb5911-3a73-4d10-8220-b60b2a027f6a"
   },
   "outputs": [
    {
     "name": "stdout",
     "output_type": "stream",
     "text": [
      "adaboost_score of decision tree:\n",
      " 1.0\n",
      "Test dataset predictions :\n",
      " ['MGL' 'EPD' 'MED' 'MED' 'EPD' 'MED' 'MED' 'MED' 'EPD' 'JPA' 'JPA' 'MED'\n",
      " 'MED' 'MED' 'MED' 'MED' 'MGL' 'MED' 'RHB' 'RHB' 'RHB' 'MED' 'MED']\n"
     ]
    }
   ],
   "source": [
    "weak_learner = DecisionTreeClassifier(random_state=30, max_depth=3)\n",
    "adaboost = AdaBoostClassifier(base_estimator=weak_learner,n_estimators=5, algorithm=\"SAMME.R\",random_state=None)\n",
    "adaboost.fit(train_x, train_y)\n",
    "adaboost_score = adaboost.score(train_x, train_y)\n",
    "adaboost_pred = adaboost.predict(x_testN)\n",
    "test_class_ = lableEncode.inverse_transform(adaboost_pred.astype(int))\n",
    "print(\"adaboost_score of decision tree:\\n\",adaboost_score)\n",
    "print(\"Test dataset predictions :\\n\",test_class)"
   ]
  },
  {
   "cell_type": "code",
   "execution_count": 496,
   "metadata": {
    "colab": {
     "base_uri": "https://localhost:8080/"
    },
    "executionInfo": {
     "elapsed": 8,
     "status": "ok",
     "timestamp": 1659769241554,
     "user": {
      "displayName": "JY Chen",
      "userId": "02001438925355313864"
     },
     "user_tz": 240
    },
    "id": "Wcu-qu9H8WxJ",
    "outputId": "1cf24f85-35e9-441e-c49a-cace5372ae9a"
   },
   "outputs": [
    {
     "name": "stdout",
     "output_type": "stream",
     "text": [
      "adaboost_score of decision tree:\n",
      " 1.0\n",
      "Test dataset predictions :\n",
      " ['MGL' 'EPD' 'MED' 'MED' 'EPD' 'MED' 'MED' 'MED' 'EPD' 'JPA' 'JPA' 'MED'\n",
      " 'MED' 'MED' 'MED' 'MED' 'MGL' 'MED' 'RHB' 'RHB' 'RHB' 'MED' 'MED']\n"
     ]
    }
   ],
   "source": [
    "weak_learner = LogisticRegression(random_state = 21)\n",
    "adaboost = AdaBoostClassifier(base_estimator=weak_learner,n_estimators=5, algorithm=\"SAMME.R\",random_state=None)\n",
    "adaboost.fit(train_x, train_y)\n",
    "adaboost_score = adaboost.score(train_x, train_y)\n",
    "adaboost_pred = adaboost.predict(x_testN)\n",
    "test_class_ = lableEncode.inverse_transform(adaboost_pred.astype(int))\n",
    "print(\"adaboost_score of decision tree:\\n\",adaboost_score)\n",
    "print(\"Test dataset predictions :\\n\",test_class)"
   ]
  },
  {
   "cell_type": "code",
   "execution_count": 497,
   "metadata": {
    "colab": {
     "base_uri": "https://localhost:8080/"
    },
    "executionInfo": {
     "elapsed": 206,
     "status": "ok",
     "timestamp": 1659769241755,
     "user": {
      "displayName": "JY Chen",
      "userId": "02001438925355313864"
     },
     "user_tz": 240
    },
    "id": "lKyF5ghp8o82",
    "outputId": "4dab396a-d602-4d08-ee63-6df11726f9e2"
   },
   "outputs": [
    {
     "name": "stdout",
     "output_type": "stream",
     "text": [
      "adaboost_score of Naïve Bayes:\n",
      " 0.782608695652174\n",
      "Test dataset predictions :\n",
      " ['MGL' 'EPD' 'MED' 'MED' 'EPD' 'MED' 'MED' 'MED' 'EPD' 'JPA' 'JPA' 'MED'\n",
      " 'MED' 'MED' 'MED' 'MED' 'MGL' 'MED' 'RHB' 'RHB' 'RHB' 'MED' 'MED']\n"
     ]
    }
   ],
   "source": [
    "weak_learner = GaussianNB()\n",
    "adaboost = AdaBoostClassifier(base_estimator=weak_learner,n_estimators=5, algorithm=\"SAMME.R\",random_state=None)\n",
    "adaboost.fit(train_x, train_y)\n",
    "adaboost_score = adaboost.score(train_x, train_y)\n",
    "adaboost_pred = adaboost.predict(x_testN)\n",
    "test_class_ = lableEncode.inverse_transform(adaboost_pred.astype(int))\n",
    "print(\"adaboost_score of Naïve Bayes:\\n\",adaboost_score)\n",
    "print(\"Test dataset predictions :\\n\",test_class)"
   ]
  }
 ],
 "metadata": {
  "colab": {
   "authorship_tag": "ABX9TyNx6ERtxv7CPWZeq8eAEqpK",
   "collapsed_sections": [
    "X-NtgdO9zl_5",
    "edsQz3oNzykp",
    "oboacf6XzSgZ"
   ],
   "name": "Jiayao 1final.ipynb",
   "provenance": []
  },
  "kernelspec": {
   "display_name": "Python 3 (ipykernel)",
   "language": "python",
   "name": "python3"
  },
  "language_info": {
   "codemirror_mode": {
    "name": "ipython",
    "version": 3
   },
   "file_extension": ".py",
   "mimetype": "text/x-python",
   "name": "python",
   "nbconvert_exporter": "python",
   "pygments_lexer": "ipython3",
   "version": "3.9.12"
  }
 },
 "nbformat": 4,
 "nbformat_minor": 1
}
